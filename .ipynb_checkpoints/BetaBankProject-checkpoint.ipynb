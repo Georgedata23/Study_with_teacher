{
 "cells": [
  {
   "cell_type": "markdown",
   "id": "6d91812e",
   "metadata": {},
   "source": [
    "# Прогнозирование уходов клиентов"
   ]
  },
  {
   "cell_type": "markdown",
   "id": "6967e112",
   "metadata": {},
   "source": [
    "## Описание проекта"
   ]
  },
  {
   "cell_type": "markdown",
   "id": "54fd2179",
   "metadata": {},
   "source": [
    "Из «Бета-Банка» каждый месяц уходят клиенты. Банковские маркетологи посчитали: сохранять текущих клиентов дешевле, чем привлекать новых.\n",
    "Требуется спрогнозировать, уйдёт клиент из банка в ближайшее время или нет. Нам предоставлены исторические данные о поведении клиентов и расторжении договоров с банком."
   ]
  },
  {
   "cell_type": "markdown",
   "id": "731f5c30",
   "metadata": {},
   "source": [
    "Ход работы:\n",
    "1. Загрузка данных и их предобработка\n",
    "2. Порядковое кодирование, исследование признаков, изменение типов данных\n",
    "3. Разбивка данных на выборки\n",
    "4. Проверка моделей с дисбалансом классов\n",
    "5. Upsampling и масштабирование признаков\n",
    "6. Проверка моделей без дисбаланса классов\n",
    "7. Тестирование лучшей модели\n",
    "8. Вывод"
   ]
  },
  {
   "cell_type": "markdown",
   "id": "27a60a9b",
   "metadata": {},
   "source": [
    "## Загрузка данных и их предобработка"
   ]
  },
  {
   "cell_type": "markdown",
   "id": "d44d2bfe",
   "metadata": {},
   "source": [
    "Импортируем необходимые билиотеки."
   ]
  },
  {
   "cell_type": "code",
   "execution_count": 1,
   "id": "46b9157a",
   "metadata": {},
   "outputs": [],
   "source": [
    "import warnings\n",
    "warnings.simplefilter('ignore')\n",
    "\n",
    "\n",
    "import pandas as pd\n",
    "import matplotlib.pyplot as plt\n",
    "from sklearn.model_selection import train_test_split\n",
    "from sklearn.metrics import f1_score\n",
    "from sklearn.metrics import roc_auc_score\n",
    "from sklearn.preprocessing import StandardScaler\n",
    "from sklearn.tree import DecisionTreeClassifier\n",
    "from sklearn.ensemble import RandomForestClassifier\n",
    "from sklearn.linear_model import LogisticRegression\n",
    "from sklearn.model_selection import GridSearchCV\n",
    "from sklearn.utils import shuffle\n",
    "from sklearn.preprocessing import OrdinalEncoder\n",
    "from sklearn.metrics import roc_curve"
   ]
  },
  {
   "cell_type": "markdown",
   "id": "b41b3155",
   "metadata": {},
   "source": [
    "Загрузим данные и посмотрим на них."
   ]
  },
  {
   "cell_type": "code",
   "execution_count": 2,
   "id": "5c80d7d8",
   "metadata": {},
   "outputs": [
    {
     "data": {
      "text/html": [
       "<div>\n",
       "<style scoped>\n",
       "    .dataframe tbody tr th:only-of-type {\n",
       "        vertical-align: middle;\n",
       "    }\n",
       "\n",
       "    .dataframe tbody tr th {\n",
       "        vertical-align: top;\n",
       "    }\n",
       "\n",
       "    .dataframe thead th {\n",
       "        text-align: right;\n",
       "    }\n",
       "</style>\n",
       "<table border=\"1\" class=\"dataframe\">\n",
       "  <thead>\n",
       "    <tr style=\"text-align: right;\">\n",
       "      <th></th>\n",
       "      <th>RowNumber</th>\n",
       "      <th>CustomerId</th>\n",
       "      <th>Surname</th>\n",
       "      <th>CreditScore</th>\n",
       "      <th>Geography</th>\n",
       "      <th>Gender</th>\n",
       "      <th>Age</th>\n",
       "      <th>Tenure</th>\n",
       "      <th>Balance</th>\n",
       "      <th>NumOfProducts</th>\n",
       "      <th>HasCrCard</th>\n",
       "      <th>IsActiveMember</th>\n",
       "      <th>EstimatedSalary</th>\n",
       "      <th>Exited</th>\n",
       "    </tr>\n",
       "  </thead>\n",
       "  <tbody>\n",
       "    <tr>\n",
       "      <th>0</th>\n",
       "      <td>1</td>\n",
       "      <td>15634602</td>\n",
       "      <td>Hargrave</td>\n",
       "      <td>619</td>\n",
       "      <td>France</td>\n",
       "      <td>Female</td>\n",
       "      <td>42</td>\n",
       "      <td>2.0</td>\n",
       "      <td>0.00</td>\n",
       "      <td>1</td>\n",
       "      <td>1</td>\n",
       "      <td>1</td>\n",
       "      <td>101348.88</td>\n",
       "      <td>1</td>\n",
       "    </tr>\n",
       "    <tr>\n",
       "      <th>1</th>\n",
       "      <td>2</td>\n",
       "      <td>15647311</td>\n",
       "      <td>Hill</td>\n",
       "      <td>608</td>\n",
       "      <td>Spain</td>\n",
       "      <td>Female</td>\n",
       "      <td>41</td>\n",
       "      <td>1.0</td>\n",
       "      <td>83807.86</td>\n",
       "      <td>1</td>\n",
       "      <td>0</td>\n",
       "      <td>1</td>\n",
       "      <td>112542.58</td>\n",
       "      <td>0</td>\n",
       "    </tr>\n",
       "    <tr>\n",
       "      <th>2</th>\n",
       "      <td>3</td>\n",
       "      <td>15619304</td>\n",
       "      <td>Onio</td>\n",
       "      <td>502</td>\n",
       "      <td>France</td>\n",
       "      <td>Female</td>\n",
       "      <td>42</td>\n",
       "      <td>8.0</td>\n",
       "      <td>159660.80</td>\n",
       "      <td>3</td>\n",
       "      <td>1</td>\n",
       "      <td>0</td>\n",
       "      <td>113931.57</td>\n",
       "      <td>1</td>\n",
       "    </tr>\n",
       "    <tr>\n",
       "      <th>3</th>\n",
       "      <td>4</td>\n",
       "      <td>15701354</td>\n",
       "      <td>Boni</td>\n",
       "      <td>699</td>\n",
       "      <td>France</td>\n",
       "      <td>Female</td>\n",
       "      <td>39</td>\n",
       "      <td>1.0</td>\n",
       "      <td>0.00</td>\n",
       "      <td>2</td>\n",
       "      <td>0</td>\n",
       "      <td>0</td>\n",
       "      <td>93826.63</td>\n",
       "      <td>0</td>\n",
       "    </tr>\n",
       "    <tr>\n",
       "      <th>4</th>\n",
       "      <td>5</td>\n",
       "      <td>15737888</td>\n",
       "      <td>Mitchell</td>\n",
       "      <td>850</td>\n",
       "      <td>Spain</td>\n",
       "      <td>Female</td>\n",
       "      <td>43</td>\n",
       "      <td>2.0</td>\n",
       "      <td>125510.82</td>\n",
       "      <td>1</td>\n",
       "      <td>1</td>\n",
       "      <td>1</td>\n",
       "      <td>79084.10</td>\n",
       "      <td>0</td>\n",
       "    </tr>\n",
       "    <tr>\n",
       "      <th>...</th>\n",
       "      <td>...</td>\n",
       "      <td>...</td>\n",
       "      <td>...</td>\n",
       "      <td>...</td>\n",
       "      <td>...</td>\n",
       "      <td>...</td>\n",
       "      <td>...</td>\n",
       "      <td>...</td>\n",
       "      <td>...</td>\n",
       "      <td>...</td>\n",
       "      <td>...</td>\n",
       "      <td>...</td>\n",
       "      <td>...</td>\n",
       "      <td>...</td>\n",
       "    </tr>\n",
       "    <tr>\n",
       "      <th>9995</th>\n",
       "      <td>9996</td>\n",
       "      <td>15606229</td>\n",
       "      <td>Obijiaku</td>\n",
       "      <td>771</td>\n",
       "      <td>France</td>\n",
       "      <td>Male</td>\n",
       "      <td>39</td>\n",
       "      <td>5.0</td>\n",
       "      <td>0.00</td>\n",
       "      <td>2</td>\n",
       "      <td>1</td>\n",
       "      <td>0</td>\n",
       "      <td>96270.64</td>\n",
       "      <td>0</td>\n",
       "    </tr>\n",
       "    <tr>\n",
       "      <th>9996</th>\n",
       "      <td>9997</td>\n",
       "      <td>15569892</td>\n",
       "      <td>Johnstone</td>\n",
       "      <td>516</td>\n",
       "      <td>France</td>\n",
       "      <td>Male</td>\n",
       "      <td>35</td>\n",
       "      <td>10.0</td>\n",
       "      <td>57369.61</td>\n",
       "      <td>1</td>\n",
       "      <td>1</td>\n",
       "      <td>1</td>\n",
       "      <td>101699.77</td>\n",
       "      <td>0</td>\n",
       "    </tr>\n",
       "    <tr>\n",
       "      <th>9997</th>\n",
       "      <td>9998</td>\n",
       "      <td>15584532</td>\n",
       "      <td>Liu</td>\n",
       "      <td>709</td>\n",
       "      <td>France</td>\n",
       "      <td>Female</td>\n",
       "      <td>36</td>\n",
       "      <td>7.0</td>\n",
       "      <td>0.00</td>\n",
       "      <td>1</td>\n",
       "      <td>0</td>\n",
       "      <td>1</td>\n",
       "      <td>42085.58</td>\n",
       "      <td>1</td>\n",
       "    </tr>\n",
       "    <tr>\n",
       "      <th>9998</th>\n",
       "      <td>9999</td>\n",
       "      <td>15682355</td>\n",
       "      <td>Sabbatini</td>\n",
       "      <td>772</td>\n",
       "      <td>Germany</td>\n",
       "      <td>Male</td>\n",
       "      <td>42</td>\n",
       "      <td>3.0</td>\n",
       "      <td>75075.31</td>\n",
       "      <td>2</td>\n",
       "      <td>1</td>\n",
       "      <td>0</td>\n",
       "      <td>92888.52</td>\n",
       "      <td>1</td>\n",
       "    </tr>\n",
       "    <tr>\n",
       "      <th>9999</th>\n",
       "      <td>10000</td>\n",
       "      <td>15628319</td>\n",
       "      <td>Walker</td>\n",
       "      <td>792</td>\n",
       "      <td>France</td>\n",
       "      <td>Female</td>\n",
       "      <td>28</td>\n",
       "      <td>NaN</td>\n",
       "      <td>130142.79</td>\n",
       "      <td>1</td>\n",
       "      <td>1</td>\n",
       "      <td>0</td>\n",
       "      <td>38190.78</td>\n",
       "      <td>0</td>\n",
       "    </tr>\n",
       "  </tbody>\n",
       "</table>\n",
       "<p>10000 rows × 14 columns</p>\n",
       "</div>"
      ],
      "text/plain": [
       "      RowNumber  CustomerId    Surname  CreditScore Geography  Gender  Age  \\\n",
       "0             1    15634602   Hargrave          619    France  Female   42   \n",
       "1             2    15647311       Hill          608     Spain  Female   41   \n",
       "2             3    15619304       Onio          502    France  Female   42   \n",
       "3             4    15701354       Boni          699    France  Female   39   \n",
       "4             5    15737888   Mitchell          850     Spain  Female   43   \n",
       "...         ...         ...        ...          ...       ...     ...  ...   \n",
       "9995       9996    15606229   Obijiaku          771    France    Male   39   \n",
       "9996       9997    15569892  Johnstone          516    France    Male   35   \n",
       "9997       9998    15584532        Liu          709    France  Female   36   \n",
       "9998       9999    15682355  Sabbatini          772   Germany    Male   42   \n",
       "9999      10000    15628319     Walker          792    France  Female   28   \n",
       "\n",
       "      Tenure    Balance  NumOfProducts  HasCrCard  IsActiveMember  \\\n",
       "0        2.0       0.00              1          1               1   \n",
       "1        1.0   83807.86              1          0               1   \n",
       "2        8.0  159660.80              3          1               0   \n",
       "3        1.0       0.00              2          0               0   \n",
       "4        2.0  125510.82              1          1               1   \n",
       "...      ...        ...            ...        ...             ...   \n",
       "9995     5.0       0.00              2          1               0   \n",
       "9996    10.0   57369.61              1          1               1   \n",
       "9997     7.0       0.00              1          0               1   \n",
       "9998     3.0   75075.31              2          1               0   \n",
       "9999     NaN  130142.79              1          1               0   \n",
       "\n",
       "      EstimatedSalary  Exited  \n",
       "0           101348.88       1  \n",
       "1           112542.58       0  \n",
       "2           113931.57       1  \n",
       "3            93826.63       0  \n",
       "4            79084.10       0  \n",
       "...               ...     ...  \n",
       "9995         96270.64       0  \n",
       "9996        101699.77       0  \n",
       "9997         42085.58       1  \n",
       "9998         92888.52       1  \n",
       "9999         38190.78       0  \n",
       "\n",
       "[10000 rows x 14 columns]"
      ]
     },
     "metadata": {},
     "output_type": "display_data"
    }
   ],
   "source": [
    "try:\n",
    "    df = pd.read_csv(r'C:\\Users\\0727G\\Downloads\\Churn.csv')\n",
    "except:\n",
    "    df = pd.read_csv(r'/datasets/Churn.csv')\n",
    "    \n",
    "display(df)"
   ]
  },
  {
   "cell_type": "code",
   "execution_count": 3,
   "id": "92ea2276",
   "metadata": {},
   "outputs": [
    {
     "name": "stdout",
     "output_type": "stream",
     "text": [
      "<class 'pandas.core.frame.DataFrame'>\n",
      "RangeIndex: 10000 entries, 0 to 9999\n",
      "Data columns (total 14 columns):\n",
      " #   Column           Non-Null Count  Dtype  \n",
      "---  ------           --------------  -----  \n",
      " 0   RowNumber        10000 non-null  int64  \n",
      " 1   CustomerId       10000 non-null  int64  \n",
      " 2   Surname          10000 non-null  object \n",
      " 3   CreditScore      10000 non-null  int64  \n",
      " 4   Geography        10000 non-null  object \n",
      " 5   Gender           10000 non-null  object \n",
      " 6   Age              10000 non-null  int64  \n",
      " 7   Tenure           9091 non-null   float64\n",
      " 8   Balance          10000 non-null  float64\n",
      " 9   NumOfProducts    10000 non-null  int64  \n",
      " 10  HasCrCard        10000 non-null  int64  \n",
      " 11  IsActiveMember   10000 non-null  int64  \n",
      " 12  EstimatedSalary  10000 non-null  float64\n",
      " 13  Exited           10000 non-null  int64  \n",
      "dtypes: float64(3), int64(8), object(3)\n",
      "memory usage: 1.1+ MB\n"
     ]
    }
   ],
   "source": [
    "df.info()"
   ]
  },
  {
   "cell_type": "markdown",
   "id": "0348c5b5",
   "metadata": {},
   "source": [
    "Из исходного датафрейма удалим столбцы RowNumber и Surname (Они нам не нужны и уменьшат производительность при их использовании в обучении и использовании модели). Также наблюдаем пропуски в столбце Tenure, 909 пропусков - почти 10% датафрейма, заменим их на среднее."
   ]
  },
  {
   "cell_type": "code",
   "execution_count": 4,
   "id": "002aab29",
   "metadata": {},
   "outputs": [],
   "source": [
    "df = df.drop('RowNumber', axis=1)"
   ]
  },
  {
   "cell_type": "code",
   "execution_count": 5,
   "id": "9bfc682c",
   "metadata": {},
   "outputs": [],
   "source": [
    "df = df.drop('Surname', axis=1) # Этот признак использовать не будем, it's bad :("
   ]
  },
  {
   "cell_type": "code",
   "execution_count": 6,
   "id": "ddc76931",
   "metadata": {},
   "outputs": [
    {
     "name": "stdout",
     "output_type": "stream",
     "text": [
      "[ 2.  1.  8.  7.  4.  6.  3. 10.  5.  9.  0. nan]\n"
     ]
    }
   ],
   "source": [
    "print(df['Tenure'].unique())"
   ]
  },
  {
   "cell_type": "code",
   "execution_count": 7,
   "id": "32ca7241",
   "metadata": {},
   "outputs": [],
   "source": [
    "df['Tenure'] = df['Tenure'].fillna(df['Tenure'].mean()).astype(int)"
   ]
  },
  {
   "cell_type": "markdown",
   "id": "868d74fb",
   "metadata": {},
   "source": [
    "Посмотрим на столбец Age, там могут быть аномалии."
   ]
  },
  {
   "cell_type": "code",
   "execution_count": 8,
   "id": "999b969e",
   "metadata": {},
   "outputs": [
    {
     "data": {
      "text/plain": [
       "count    10000.000000\n",
       "mean        38.921800\n",
       "std         10.487806\n",
       "min         18.000000\n",
       "25%         32.000000\n",
       "50%         37.000000\n",
       "75%         44.000000\n",
       "max         92.000000\n",
       "Name: Age, dtype: float64"
      ]
     },
     "execution_count": 8,
     "metadata": {},
     "output_type": "execute_result"
    }
   ],
   "source": [
    "df['Age'].describe()"
   ]
  },
  {
   "cell_type": "markdown",
   "id": "4ad5c071",
   "metadata": {},
   "source": [
    "Аномалий не обнаружилось 18 лет минимальный возраст, 92 - максимальный, вполне естественно."
   ]
  },
  {
   "cell_type": "markdown",
   "id": "39e11bc7",
   "metadata": {},
   "source": [
    "## Порядковое кодирование, исследование классов и признаков, изменение типов данных"
   ]
  },
  {
   "cell_type": "markdown",
   "id": "7616af5e",
   "metadata": {},
   "source": [
    "Проведем порядковое кодирование, чтобы использовать такие признаки как Georgraphy и  Gender. Сразу изменим типы данных, где это необходимо."
   ]
  },
  {
   "cell_type": "code",
   "execution_count": 12,
   "id": "c10837ae",
   "metadata": {
    "scrolled": true
   },
   "outputs": [
    {
     "data": {
      "text/html": [
       "<div>\n",
       "<style scoped>\n",
       "    .dataframe tbody tr th:only-of-type {\n",
       "        vertical-align: middle;\n",
       "    }\n",
       "\n",
       "    .dataframe tbody tr th {\n",
       "        vertical-align: top;\n",
       "    }\n",
       "\n",
       "    .dataframe thead th {\n",
       "        text-align: right;\n",
       "    }\n",
       "</style>\n",
       "<table border=\"1\" class=\"dataframe\">\n",
       "  <thead>\n",
       "    <tr style=\"text-align: right;\">\n",
       "      <th></th>\n",
       "      <th>CustomerId</th>\n",
       "      <th>CreditScore</th>\n",
       "      <th>Geography</th>\n",
       "      <th>Gender</th>\n",
       "      <th>Age</th>\n",
       "      <th>Tenure</th>\n",
       "      <th>Balance</th>\n",
       "      <th>NumOfProducts</th>\n",
       "      <th>HasCrCard</th>\n",
       "      <th>IsActiveMember</th>\n",
       "      <th>EstimatedSalary</th>\n",
       "      <th>Exited</th>\n",
       "    </tr>\n",
       "  </thead>\n",
       "  <tbody>\n",
       "    <tr>\n",
       "      <th>0</th>\n",
       "      <td>2736.0</td>\n",
       "      <td>228.0</td>\n",
       "      <td>0</td>\n",
       "      <td>0</td>\n",
       "      <td>24</td>\n",
       "      <td>2</td>\n",
       "      <td>0.0</td>\n",
       "      <td>0</td>\n",
       "      <td>1</td>\n",
       "      <td>1</td>\n",
       "      <td>5068.0</td>\n",
       "      <td>1</td>\n",
       "    </tr>\n",
       "    <tr>\n",
       "      <th>1</th>\n",
       "      <td>3258.0</td>\n",
       "      <td>217.0</td>\n",
       "      <td>2</td>\n",
       "      <td>0</td>\n",
       "      <td>23</td>\n",
       "      <td>1</td>\n",
       "      <td>743.0</td>\n",
       "      <td>0</td>\n",
       "      <td>0</td>\n",
       "      <td>1</td>\n",
       "      <td>5639.0</td>\n",
       "      <td>0</td>\n",
       "    </tr>\n",
       "    <tr>\n",
       "      <th>2</th>\n",
       "      <td>2104.0</td>\n",
       "      <td>111.0</td>\n",
       "      <td>0</td>\n",
       "      <td>0</td>\n",
       "      <td>24</td>\n",
       "      <td>8</td>\n",
       "      <td>5793.0</td>\n",
       "      <td>2</td>\n",
       "      <td>1</td>\n",
       "      <td>0</td>\n",
       "      <td>5707.0</td>\n",
       "      <td>1</td>\n",
       "    </tr>\n",
       "    <tr>\n",
       "      <th>3</th>\n",
       "      <td>5435.0</td>\n",
       "      <td>308.0</td>\n",
       "      <td>0</td>\n",
       "      <td>0</td>\n",
       "      <td>21</td>\n",
       "      <td>1</td>\n",
       "      <td>0.0</td>\n",
       "      <td>1</td>\n",
       "      <td>0</td>\n",
       "      <td>0</td>\n",
       "      <td>4704.0</td>\n",
       "      <td>0</td>\n",
       "    </tr>\n",
       "    <tr>\n",
       "      <th>4</th>\n",
       "      <td>6899.0</td>\n",
       "      <td>459.0</td>\n",
       "      <td>2</td>\n",
       "      <td>0</td>\n",
       "      <td>25</td>\n",
       "      <td>2</td>\n",
       "      <td>3696.0</td>\n",
       "      <td>0</td>\n",
       "      <td>1</td>\n",
       "      <td>1</td>\n",
       "      <td>3925.0</td>\n",
       "      <td>0</td>\n",
       "    </tr>\n",
       "    <tr>\n",
       "      <th>...</th>\n",
       "      <td>...</td>\n",
       "      <td>...</td>\n",
       "      <td>...</td>\n",
       "      <td>...</td>\n",
       "      <td>...</td>\n",
       "      <td>...</td>\n",
       "      <td>...</td>\n",
       "      <td>...</td>\n",
       "      <td>...</td>\n",
       "      <td>...</td>\n",
       "      <td>...</td>\n",
       "      <td>...</td>\n",
       "    </tr>\n",
       "    <tr>\n",
       "      <th>9995</th>\n",
       "      <td>1599.0</td>\n",
       "      <td>380.0</td>\n",
       "      <td>0</td>\n",
       "      <td>1</td>\n",
       "      <td>21</td>\n",
       "      <td>5</td>\n",
       "      <td>0.0</td>\n",
       "      <td>1</td>\n",
       "      <td>1</td>\n",
       "      <td>0</td>\n",
       "      <td>4827.0</td>\n",
       "      <td>0</td>\n",
       "    </tr>\n",
       "    <tr>\n",
       "      <th>9996</th>\n",
       "      <td>161.0</td>\n",
       "      <td>125.0</td>\n",
       "      <td>0</td>\n",
       "      <td>1</td>\n",
       "      <td>17</td>\n",
       "      <td>10</td>\n",
       "      <td>124.0</td>\n",
       "      <td>0</td>\n",
       "      <td>1</td>\n",
       "      <td>1</td>\n",
       "      <td>5087.0</td>\n",
       "      <td>0</td>\n",
       "    </tr>\n",
       "    <tr>\n",
       "      <th>9997</th>\n",
       "      <td>717.0</td>\n",
       "      <td>318.0</td>\n",
       "      <td>0</td>\n",
       "      <td>0</td>\n",
       "      <td>18</td>\n",
       "      <td>7</td>\n",
       "      <td>0.0</td>\n",
       "      <td>0</td>\n",
       "      <td>0</td>\n",
       "      <td>1</td>\n",
       "      <td>2062.0</td>\n",
       "      <td>1</td>\n",
       "    </tr>\n",
       "    <tr>\n",
       "      <th>9998</th>\n",
       "      <td>4656.0</td>\n",
       "      <td>381.0</td>\n",
       "      <td>1</td>\n",
       "      <td>1</td>\n",
       "      <td>24</td>\n",
       "      <td>3</td>\n",
       "      <td>427.0</td>\n",
       "      <td>1</td>\n",
       "      <td>1</td>\n",
       "      <td>0</td>\n",
       "      <td>4639.0</td>\n",
       "      <td>1</td>\n",
       "    </tr>\n",
       "    <tr>\n",
       "      <th>9999</th>\n",
       "      <td>2497.0</td>\n",
       "      <td>401.0</td>\n",
       "      <td>0</td>\n",
       "      <td>0</td>\n",
       "      <td>10</td>\n",
       "      <td>4</td>\n",
       "      <td>4112.0</td>\n",
       "      <td>0</td>\n",
       "      <td>1</td>\n",
       "      <td>0</td>\n",
       "      <td>1878.0</td>\n",
       "      <td>0</td>\n",
       "    </tr>\n",
       "  </tbody>\n",
       "</table>\n",
       "<p>10000 rows × 12 columns</p>\n",
       "</div>"
      ],
      "text/plain": [
       "      CustomerId  CreditScore  Geography  Gender  Age  Tenure  Balance  \\\n",
       "0         2736.0        228.0          0       0   24       2      0.0   \n",
       "1         3258.0        217.0          2       0   23       1    743.0   \n",
       "2         2104.0        111.0          0       0   24       8   5793.0   \n",
       "3         5435.0        308.0          0       0   21       1      0.0   \n",
       "4         6899.0        459.0          2       0   25       2   3696.0   \n",
       "...          ...          ...        ...     ...  ...     ...      ...   \n",
       "9995      1599.0        380.0          0       1   21       5      0.0   \n",
       "9996       161.0        125.0          0       1   17      10    124.0   \n",
       "9997       717.0        318.0          0       0   18       7      0.0   \n",
       "9998      4656.0        381.0          1       1   24       3    427.0   \n",
       "9999      2497.0        401.0          0       0   10       4   4112.0   \n",
       "\n",
       "      NumOfProducts  HasCrCard  IsActiveMember  EstimatedSalary  Exited  \n",
       "0                 0          1               1           5068.0       1  \n",
       "1                 0          0               1           5639.0       0  \n",
       "2                 2          1               0           5707.0       1  \n",
       "3                 1          0               0           4704.0       0  \n",
       "4                 0          1               1           3925.0       0  \n",
       "...             ...        ...             ...              ...     ...  \n",
       "9995              1          1               0           4827.0       0  \n",
       "9996              0          1               1           5087.0       0  \n",
       "9997              0          0               1           2062.0       1  \n",
       "9998              1          1               0           4639.0       1  \n",
       "9999              0          1               0           1878.0       0  \n",
       "\n",
       "[10000 rows x 12 columns]"
      ]
     },
     "metadata": {},
     "output_type": "display_data"
    }
   ],
   "source": [
    "encoder = OrdinalEncoder() \n",
    "df = pd.DataFrame(encoder.fit_transform(df), columns=df.columns)\n",
    "df['Geography'] = df['Geography'].astype(int)\n",
    "df['Tenure'] = df['Tenure'].astype(int)\n",
    "df['Gender'] = df['Gender'].astype(int)\n",
    "df['Age'] = df['Age'].astype(int)\n",
    "df['NumOfProducts'] = df['NumOfProducts'].astype(int)\n",
    "df['HasCrCard'] = df['HasCrCard'].astype(int)\n",
    "df['IsActiveMember'] = df['IsActiveMember'].astype(int)\n",
    "df['Exited'] = df['Exited'].astype(int)\n",
    "display(df)"
   ]
  },
  {
   "cell_type": "markdown",
   "id": "c2d38fa8",
   "metadata": {},
   "source": [
    "Простроим гистограммы по целевому и другим признакам"
   ]
  },
  {
   "cell_type": "code",
   "execution_count": 13,
   "id": "2f280799",
   "metadata": {},
   "outputs": [
    {
     "data": {
      "image/png": "[encoded data removed]",
      "text/plain": [
       "<Figure size 432x288 with 1 Axes>"
      ]
     },
     "metadata": {
      "needs_background": "light"
     },
     "output_type": "display_data"
    }
   ],
   "source": [
    "fig, ax = plt.subplots()\n",
    "ax.hist(df['Exited'], bins=10, color='g')\n",
    "ax.set_title('Гистограмма ухода клиентов')\n",
    "ax.set_xlabel('Факт ухода')\n",
    "ax.set_ylabel('Количество клиентов')\n",
    "ax.grid()\n",
    "plt.show() # Необходимо увеличить выборку, мало единиц"
   ]
  },
  {
   "cell_type": "markdown",
   "id": "ba377e49",
   "metadata": {},
   "source": [
    "Из гистограммы целевого признака видим, что количество уходов клиентов, меньше количетсва остающихся клиентов в 4 раза (примерно). Значит придется увеличивать выборку записями с фактом ухода клиента."
   ]
  },
  {
   "cell_type": "code",
   "execution_count": 14,
   "id": "d3add8b3",
   "metadata": {},
   "outputs": [
    {
     "data": {
      "image/png": "[encoded data removed]",
      "text/plain": [
       "<Figure size 432x288 with 1 Axes>"
      ]
     },
     "metadata": {
      "needs_background": "light"
     },
     "output_type": "display_data"
    }
   ],
   "source": [
    "fig, ax = plt.subplots()\n",
    "ax.hist(df['Gender'], bins=10, color='g')\n",
    "ax.set_title('Гистограмма полов')\n",
    "ax.set_xlabel('Пол')\n",
    "ax.set_ylabel('Количество клиентов')\n",
    "ax.grid()\n",
    "plt.show() "
   ]
  },
  {
   "cell_type": "markdown",
   "id": "054b5e5c",
   "metadata": {},
   "source": [
    "По полу клиенты распределены примерно одинаковы"
   ]
  },
  {
   "cell_type": "code",
   "execution_count": 15,
   "id": "85f3e591",
   "metadata": {},
   "outputs": [
    {
     "data": {
      "image/png": "[encoded data removed]",
      "text/plain": [
       "<Figure size 432x288 with 1 Axes>"
      ]
     },
     "metadata": {
      "needs_background": "light"
     },
     "output_type": "display_data"
    }
   ],
   "source": [
    "fig, ax = plt.subplots()\n",
    "ax.hist(df['HasCrCard'], bins=10, color='g')\n",
    "ax.set_title('Гистограмма кредиток')\n",
    "ax.set_xlabel('Наличие кредитки')\n",
    "ax.set_ylabel('Количество клиентов')\n",
    "ax.grid()\n",
    "plt.show()"
   ]
  },
  {
   "cell_type": "markdown",
   "id": "7d780342",
   "metadata": {},
   "source": [
    "Людей без кредитных карт более чем в два раза меньше, чем с кредитками. \n",
    "P.S.: Можно ли произвести увеличение выборки не по целевому признаку и есть ли для этоого специальные методы?"
   ]
  },
  {
   "cell_type": "code",
   "execution_count": 16,
   "id": "6407fd82",
   "metadata": {},
   "outputs": [
    {
     "data": {
      "image/png": "[encoded data removed]",
      "text/plain": [
       "<Figure size 432x288 with 1 Axes>"
      ]
     },
     "metadata": {
      "needs_background": "light"
     },
     "output_type": "display_data"
    }
   ],
   "source": [
    "fig, ax = plt.subplots()\n",
    "ax.hist(df['IsActiveMember'], bins=10, color='g')\n",
    "ax.set_title('Гистограмма активности')\n",
    "ax.set_xlabel('Активность')\n",
    "ax.set_ylabel('Количество клиентов')\n",
    "ax.grid()\n",
    "plt.show() "
   ]
  },
  {
   "cell_type": "markdown",
   "id": "e14868f9",
   "metadata": {},
   "source": [
    "По активности клиенты распределены почти равномерно"
   ]
  },
  {
   "cell_type": "code",
   "execution_count": 17,
   "id": "12c40092",
   "metadata": {},
   "outputs": [
    {
     "data": {
      "image/png": "[encoded data removed]",
      "text/plain": [
       "<Figure size 432x288 with 1 Axes>"
      ]
     },
     "metadata": {
      "needs_background": "light"
     },
     "output_type": "display_data"
    }
   ],
   "source": [
    "fig, ax = plt.subplots()\n",
    "ax.hist(df['Geography'], bins=10, color='g')\n",
    "ax.set_title('Гистограмма стран')\n",
    "ax.set_xlabel('Номер страны')\n",
    "ax.set_ylabel('Количество клиентов')\n",
    "ax.grid()\n",
    "plt.show()"
   ]
  },
  {
   "cell_type": "markdown",
   "id": "febb5426",
   "metadata": {},
   "source": [
    "Страны распределены неравномерно, клиентов из Франции в два раза больше чем из Испании или Германии"
   ]
  },
  {
   "cell_type": "code",
   "execution_count": 18,
   "id": "5d2f656f",
   "metadata": {},
   "outputs": [
    {
     "data": {
      "image/png": "[encoded data removed]",
      "text/plain": [
       "<Figure size 432x288 with 1 Axes>"
      ]
     },
     "metadata": {
      "needs_background": "light"
     },
     "output_type": "display_data"
    }
   ],
   "source": [
    "fig, ax = plt.subplots()\n",
    "ax.hist(df['NumOfProducts'], bins=10, color='g')\n",
    "ax.set_title('Гистограмма продуктов клиентов')\n",
    "ax.set_xlabel('Номер продукта')\n",
    "ax.set_ylabel('Количество клиентов')\n",
    "ax.grid()\n",
    "plt.show()"
   ]
  },
  {
   "cell_type": "markdown",
   "id": "d0da12bc",
   "metadata": {},
   "source": [
    "Очень мало клиентов, которые берут 3-ий и 2-ой продукты, в лидерах 0-ой продукт, немного меньше клиентов пользуется 1-ым."
   ]
  },
  {
   "cell_type": "markdown",
   "id": "fd22e478",
   "metadata": {},
   "source": [
    "## Разбивка данных на выборки"
   ]
  },
  {
   "cell_type": "markdown",
   "id": "e5c6cb66",
   "metadata": {},
   "source": [
    "Уберем столбец CustomerId из признаков, это просто номер человека. Разобьем данные на обучающую, валидационную и тестовую выборки."
   ]
  },
  {
   "cell_type": "code",
   "execution_count": 20,
   "id": "b52af00e",
   "metadata": {},
   "outputs": [],
   "source": [
    "features = df.drop(['CustomerId', 'Exited'], axis=1)"
   ]
  },
  {
   "cell_type": "code",
   "execution_count": 21,
   "id": "25b8a8f7",
   "metadata": {},
   "outputs": [],
   "source": [
    "target = df['Exited']"
   ]
  },
  {
   "cell_type": "code",
   "execution_count": 22,
   "id": "bba64dd9",
   "metadata": {},
   "outputs": [],
   "source": [
    "features_train, features_valid, target_train, target_valid = train_test_split(features, target, \n",
    "                                                                              test_size=0.4, random_state=12345,\n",
    "                                                                             stratify=df['Exited'])"
   ]
  },
  {
   "cell_type": "code",
   "execution_count": 23,
   "id": "3094e3f8",
   "metadata": {},
   "outputs": [],
   "source": [
    "features_test, features_valid, target_test, target_valid = train_test_split(features_valid, target_valid, \n",
    "                                                                            test_size=0.5, random_state=12345,\n",
    "                                                                            stratify=target_valid)"
   ]
  },
  {
   "cell_type": "markdown",
   "id": "d07ecdeb",
   "metadata": {},
   "source": [
    "## Проверка моделей с дисбалансом классов "
   ]
  },
  {
   "cell_type": "markdown",
   "id": "0a5579d0",
   "metadata": {},
   "source": [
    "Построим модель случайного леса (подберем лучшие параметры) и посмотрим на показатель f1-меры и auc_roc."
   ]
  },
  {
   "cell_type": "code",
   "execution_count": 24,
   "id": "acd9c102",
   "metadata": {},
   "outputs": [
    {
     "name": "stdout",
     "output_type": "stream",
     "text": [
      "Лучшая_f1: 0.5705614567526555, лучшее кол-во деревьев: 11, лучшая глубина: 16\n",
      "0.5705614567526555 11 16\n",
      "Лучший auc_roc: 0.8293324140781768\n",
      "Wall time: 1min 22s\n"
     ]
    }
   ],
   "source": [
    "%%time\n",
    "\n",
    "# 1 min 22 sec\n",
    "from sklearn.metrics import roc_auc_score\n",
    "\n",
    "\n",
    "best_scores = 0\n",
    "best_depth = 0\n",
    "best_n = 0\n",
    "a_r_s = 0\n",
    "probabilities_best_valid = 0\n",
    "for n in range(1, 101, 10):\n",
    "    for depth in range(1, 20):   \n",
    "        model = RandomForestClassifier(n_estimators=n, max_depth=depth, random_state=12345)\n",
    "        model.fit(features_train, target_train)\n",
    "        pred = model.predict(features_valid)\n",
    "        scores = f1_score(target_valid, pred)\n",
    "        probabilities_valid = model.predict_proba(features_valid)\n",
    "        probabilities_one_valid = probabilities_valid[:, 1]\n",
    "        auc_roc_sc = roc_auc_score(target_valid, probabilities_one_valid)\n",
    "        if best_scores < scores:\n",
    "            best_scores = scores\n",
    "            best_n = n\n",
    "            best_depth = depth\n",
    "            a_r_s = auc_roc_sc\n",
    "            probabilities_best_valid = probabilities_one_valid\n",
    "print(f\"Лучшая_f1: {best_scores}, лучшее кол-во деревьев: {best_n}, лучшая глубина: {best_depth}\")\n",
    "print(f\"Лучший auc_roc: {a_r_s}\")"
   ]
  },
  {
   "cell_type": "code",
   "execution_count": 25,
   "id": "c0c5cebf",
   "metadata": {},
   "outputs": [
    {
     "data": {
      "image/png": "[encoded data removed]",
      "text/plain": [
       "<Figure size 432x288 with 1 Axes>"
      ]
     },
     "metadata": {
      "needs_background": "light"
     },
     "output_type": "display_data"
    }
   ],
   "source": [
    "\n",
    "fpr, tpr, thresholds = roc_curve(target_valid, probabilities_best_valid)\n",
    "\n",
    "\n",
    "plt.figure()\n",
    "plt.plot(fpr, tpr, color='g')\n",
    "plt.xlim([0.0, 1.0])\n",
    "plt.ylim([0.0, 1.0])\n",
    "plt.xlabel('False Positive Rate')\n",
    "plt.ylabel('True Positive Rate')\n",
    "plt.title('ROC-кривая')\n",
    "plt.show() "
   ]
  },
  {
   "cell_type": "markdown",
   "id": "5e34a007",
   "metadata": {},
   "source": [
    "Показатель f1 оказался 0.57 при количестве деревьев 11 и глубине 16. Показатель Auc_roc: 0.83"
   ]
  },
  {
   "cell_type": "markdown",
   "id": "f383065b",
   "metadata": {},
   "source": [
    "Построим модель логистической регрессии (подберем лучшие параметры) и посмотрим на показатель f1-меры и auc_roc."
   ]
  },
  {
   "cell_type": "code",
   "execution_count": 26,
   "id": "7f0e8bbe",
   "metadata": {},
   "outputs": [
    {
     "name": "stdout",
     "output_type": "stream",
     "text": [
      "Fitting 5 folds for each of 145 candidates, totalling 725 fits\n",
      "[CV 1/5] END max_iter=1, solver=newton-cg; f1: (test=0.000) roc_auc: (test=0.471) total time=   0.0s\n",
      "[CV 2/5] END max_iter=1, solver=newton-cg; f1: (test=0.000) roc_auc: (test=0.483) total time=   0.0s\n",
      "[CV 3/5] END max_iter=1, solver=newton-cg; f1: (test=0.000) roc_auc: (test=0.481) total time=   0.0s\n",
      "[CV 4/5] END max_iter=1, solver=newton-cg; f1: (test=0.000) roc_auc: (test=0.485) total time=   0.0s\n",
      "[CV 5/5] END max_iter=1, solver=newton-cg; f1: (test=0.000) roc_auc: (test=0.444) total time=   0.0s\n",
      "[CV 1/5] END max_iter=1, solver=lbfgs; f1: (test=0.000) roc_auc: (test=0.471) total time=   0.0s\n",
      "[CV 2/5] END max_iter=1, solver=lbfgs; f1: (test=0.000) roc_auc: (test=0.483) total time=   0.0s\n",
      "[CV 3/5] END max_iter=1, solver=lbfgs; f1: (test=0.000) roc_auc: (test=0.481) total time=   0.0s\n",
      "[CV 4/5] END max_iter=1, solver=lbfgs; f1: (test=0.000) roc_auc: (test=0.485) total time=   0.0s\n",
      "[CV 5/5] END max_iter=1, solver=lbfgs; f1: (test=0.000) roc_auc: (test=0.444) total time=   0.0s\n",
      "[CV 1/5] END max_iter=1, solver=liblinear; f1: (test=0.000) roc_auc: (test=0.471) total time=   0.0s\n",
      "[CV 2/5] END max_iter=1, solver=liblinear; f1: (test=0.000) roc_auc: (test=0.483) total time=   0.0s\n",
      "[CV 3/5] END max_iter=1, solver=liblinear; f1: (test=0.000) roc_auc: (test=0.481) total time=   0.0s\n",
      "[CV 4/5] END max_iter=1, solver=liblinear; f1: (test=0.000) roc_auc: (test=0.485) total time=   0.0s\n",
      "[CV 5/5] END max_iter=1, solver=liblinear; f1: (test=0.000) roc_auc: (test=0.444) total time=   0.0s\n",
      "[CV 1/5] END max_iter=1, solver=sag; f1: (test=0.000) roc_auc: (test=0.456) total time=   0.0s\n",
      "[CV 2/5] END max_iter=1, solver=sag; f1: (test=0.000) roc_auc: (test=0.482) total time=   0.0s\n",
      "[CV 3/5] END max_iter=1, solver=sag; f1: (test=0.000) roc_auc: (test=0.495) total time=   0.0s\n",
      "[CV 4/5] END max_iter=1, solver=sag; f1: (test=0.000) roc_auc: (test=0.494) total time=   0.0s\n",
      "[CV 5/5] END max_iter=1, solver=sag; f1: (test=0.070) roc_auc: (test=0.494) total time=   0.0s\n",
      "[CV 1/5] END max_iter=1, solver=saga; f1: (test=0.000) roc_auc: (test=0.488) total time=   0.0s\n",
      "[CV 2/5] END max_iter=1, solver=saga; f1: (test=0.000) roc_auc: (test=0.451) total time=   0.0s\n",
      "[CV 3/5] END max_iter=1, solver=saga; f1: (test=0.000) roc_auc: (test=0.470) total time=   0.0s\n",
      "[CV 4/5] END max_iter=1, solver=saga; f1: (test=0.000) roc_auc: (test=0.510) total time=   0.0s\n",
      "[CV 5/5] END max_iter=1, solver=saga; f1: (test=0.000) roc_auc: (test=0.457) total time=   0.0s\n",
      "[CV 1/5] END max_iter=2, solver=newton-cg; f1: (test=0.000) roc_auc: (test=0.471) total time=   0.0s\n",
      "[CV 2/5] END max_iter=2, solver=newton-cg; f1: (test=0.000) roc_auc: (test=0.483) total time=   0.0s\n",
      "[CV 3/5] END max_iter=2, solver=newton-cg; f1: (test=0.000) roc_auc: (test=0.482) total time=   0.0s\n",
      "[CV 4/5] END max_iter=2, solver=newton-cg; f1: (test=0.000) roc_auc: (test=0.485) total time=   0.0s\n",
      "[CV 5/5] END max_iter=2, solver=newton-cg; f1: (test=0.000) roc_auc: (test=0.445) total time=   0.0s\n",
      "[CV 1/5] END max_iter=2, solver=lbfgs; f1: (test=0.000) roc_auc: (test=0.471) total time=   0.0s\n",
      "[CV 2/5] END max_iter=2, solver=lbfgs; f1: (test=0.000) roc_auc: (test=0.483) total time=   0.0s\n",
      "[CV 3/5] END max_iter=2, solver=lbfgs; f1: (test=0.000) roc_auc: (test=0.482) total time=   0.0s\n",
      "[CV 4/5] END max_iter=2, solver=lbfgs; f1: (test=0.000) roc_auc: (test=0.485) total time=   0.0s\n",
      "[CV 5/5] END max_iter=2, solver=lbfgs; f1: (test=0.000) roc_auc: (test=0.445) total time=   0.0s\n",
      "[CV 1/5] END max_iter=2, solver=liblinear; f1: (test=0.000) roc_auc: (test=0.478) total time=   0.0s\n",
      "[CV 2/5] END max_iter=2, solver=liblinear; f1: (test=0.000) roc_auc: (test=0.483) total time=   0.0s\n",
      "[CV 3/5] END max_iter=2, solver=liblinear; f1: (test=0.000) roc_auc: (test=0.482) total time=   0.0s\n",
      "[CV 4/5] END max_iter=2, solver=liblinear; f1: (test=0.000) roc_auc: (test=0.496) total time=   0.0s\n",
      "[CV 5/5] END max_iter=2, solver=liblinear; f1: (test=0.000) roc_auc: (test=0.452) total time=   0.0s\n",
      "[CV 1/5] END max_iter=2, solver=sag; f1: (test=0.000) roc_auc: (test=0.485) total time=   0.0s\n",
      "[CV 2/5] END max_iter=2, solver=sag; f1: (test=0.000) roc_auc: (test=0.504) total time=   0.0s\n",
      "[CV 3/5] END max_iter=2, solver=sag; f1: (test=0.067) roc_auc: (test=0.517) total time=   0.0s\n",
      "[CV 4/5] END max_iter=2, solver=sag; f1: (test=0.000) roc_auc: (test=0.530) total time=   0.0s\n",
      "[CV 5/5] END max_iter=2, solver=sag; f1: (test=0.000) roc_auc: (test=0.482) total time=   0.0s\n",
      "[CV 1/5] END max_iter=2, solver=saga; f1: (test=0.000) roc_auc: (test=0.499) total time=   0.0s\n",
      "[CV 2/5] END max_iter=2, solver=saga; f1: (test=0.000) roc_auc: (test=0.500) total time=   0.0s\n",
      "[CV 3/5] END max_iter=2, solver=saga; f1: (test=0.000) roc_auc: (test=0.504) total time=   0.0s\n",
      "[CV 4/5] END max_iter=2, solver=saga; f1: (test=0.000) roc_auc: (test=0.522) total time=   0.0s\n",
      "[CV 5/5] END max_iter=2, solver=saga; f1: (test=0.000) roc_auc: (test=0.476) total time=   0.0s\n",
      "[CV 1/5] END max_iter=3, solver=newton-cg; f1: (test=0.000) roc_auc: (test=0.474) total time=   0.0s\n",
      "[CV 2/5] END max_iter=3, solver=newton-cg; f1: (test=0.000) roc_auc: (test=0.495) total time=   0.0s\n",
      "[CV 3/5] END max_iter=3, solver=newton-cg; f1: (test=0.000) roc_auc: (test=0.498) total time=   0.0s\n",
      "[CV 4/5] END max_iter=3, solver=newton-cg; f1: (test=0.000) roc_auc: (test=0.516) total time=   0.0s\n",
      "[CV 5/5] END max_iter=3, solver=newton-cg; f1: (test=0.000) roc_auc: (test=0.447) total time=   0.0s\n",
      "[CV 1/5] END max_iter=3, solver=lbfgs; f1: (test=0.000) roc_auc: (test=0.472) total time=   0.0s\n",
      "[CV 2/5] END max_iter=3, solver=lbfgs; f1: (test=0.000) roc_auc: (test=0.484) total time=   0.0s\n",
      "[CV 3/5] END max_iter=3, solver=lbfgs; f1: (test=0.000) roc_auc: (test=0.483) total time=   0.0s\n",
      "[CV 4/5] END max_iter=3, solver=lbfgs; f1: (test=0.000) roc_auc: (test=0.486) total time=   0.0s\n",
      "[CV 5/5] END max_iter=3, solver=lbfgs; f1: (test=0.000) roc_auc: (test=0.446) total time=   0.0s\n",
      "[CV 1/5] END max_iter=3, solver=liblinear; f1: (test=0.000) roc_auc: (test=0.473) total time=   0.0s\n",
      "[CV 2/5] END max_iter=3, solver=liblinear; f1: (test=0.000) roc_auc: (test=0.494) total time=   0.0s\n",
      "[CV 3/5] END max_iter=3, solver=liblinear; f1: (test=0.000) roc_auc: (test=0.499) total time=   0.0s\n",
      "[CV 4/5] END max_iter=3, solver=liblinear; f1: (test=0.000) roc_auc: (test=0.490) total time=   0.0s\n",
      "[CV 5/5] END max_iter=3, solver=liblinear; f1: (test=0.000) roc_auc: (test=0.446) total time=   0.0s\n",
      "[CV 1/5] END max_iter=3, solver=sag; f1: (test=0.159) roc_auc: (test=0.539) total time=   0.0s\n",
      "[CV 2/5] END max_iter=3, solver=sag; f1: (test=0.024) roc_auc: (test=0.533) total time=   0.0s\n",
      "[CV 3/5] END max_iter=3, solver=sag; f1: (test=0.000) roc_auc: (test=0.515) total time=   0.0s\n",
      "[CV 4/5] END max_iter=3, solver=sag; f1: (test=0.000) roc_auc: (test=0.537) total time=   0.0s\n",
      "[CV 5/5] END max_iter=3, solver=sag; f1: (test=0.000) roc_auc: (test=0.511) total time=   0.0s\n",
      "[CV 1/5] END max_iter=3, solver=saga; f1: (test=0.000) roc_auc: (test=0.496) total time=   0.0s\n",
      "[CV 2/5] END max_iter=3, solver=saga; f1: (test=0.000) roc_auc: (test=0.492) total time=   0.0s\n",
      "[CV 3/5] END max_iter=3, solver=saga; f1: (test=0.000) roc_auc: (test=0.503) total time=   0.0s\n",
      "[CV 4/5] END max_iter=3, solver=saga; f1: (test=0.000) roc_auc: (test=0.532) total time=   0.0s\n",
      "[CV 5/5] END max_iter=3, solver=saga; f1: (test=0.000) roc_auc: (test=0.488) total time=   0.0s\n",
      "[CV 1/5] END max_iter=4, solver=newton-cg; f1: (test=0.000) roc_auc: (test=0.482) total time=   0.0s\n",
      "[CV 2/5] END max_iter=4, solver=newton-cg; f1: (test=0.000) roc_auc: (test=0.495) total time=   0.0s\n",
      "[CV 3/5] END max_iter=4, solver=newton-cg; f1: (test=0.000) roc_auc: (test=0.513) total time=   0.0s\n",
      "[CV 4/5] END max_iter=4, solver=newton-cg; f1: (test=0.008) roc_auc: (test=0.548) total time=   0.0s\n",
      "[CV 5/5] END max_iter=4, solver=newton-cg; f1: (test=0.000) roc_auc: (test=0.455) total time=   0.0s\n",
      "[CV 1/5] END max_iter=4, solver=lbfgs; f1: (test=0.000) roc_auc: (test=0.475) total time=   0.0s\n",
      "[CV 2/5] END max_iter=4, solver=lbfgs; f1: (test=0.000) roc_auc: (test=0.487) total time=   0.0s\n",
      "[CV 3/5] END max_iter=4, solver=lbfgs; f1: (test=0.000) roc_auc: (test=0.485) total time=   0.0s\n",
      "[CV 4/5] END max_iter=4, solver=lbfgs; f1: (test=0.000) roc_auc: (test=0.489) total time=   0.0s\n",
      "[CV 5/5] END max_iter=4, solver=lbfgs; f1: (test=0.000) roc_auc: (test=0.448) total time=   0.0s\n",
      "[CV 1/5] END max_iter=4, solver=liblinear; f1: (test=0.000) roc_auc: (test=0.486) total time=   0.0s\n",
      "[CV 2/5] END max_iter=4, solver=liblinear; f1: (test=0.000) roc_auc: (test=0.483) total time=   0.0s\n",
      "[CV 3/5] END max_iter=4, solver=liblinear; f1: (test=0.000) roc_auc: (test=0.485) total time=   0.0s\n",
      "[CV 4/5] END max_iter=4, solver=liblinear; f1: (test=0.000) roc_auc: (test=0.509) total time=   0.0s\n",
      "[CV 5/5] END max_iter=4, solver=liblinear; f1: (test=0.000) roc_auc: (test=0.457) total time=   0.0s\n",
      "[CV 1/5] END max_iter=4, solver=sag; f1: (test=0.279) roc_auc: (test=0.551) total time=   0.0s\n"
     ]
    },
    {
     "name": "stdout",
     "output_type": "stream",
     "text": [
      "[CV 2/5] END max_iter=4, solver=sag; f1: (test=0.000) roc_auc: (test=0.529) total time=   0.0s\n",
      "[CV 3/5] END max_iter=4, solver=sag; f1: (test=0.000) roc_auc: (test=0.489) total time=   0.0s\n",
      "[CV 4/5] END max_iter=4, solver=sag; f1: (test=0.000) roc_auc: (test=0.534) total time=   0.0s\n",
      "[CV 5/5] END max_iter=4, solver=sag; f1: (test=0.000) roc_auc: (test=0.499) total time=   0.0s\n",
      "[CV 1/5] END max_iter=4, solver=saga; f1: (test=0.000) roc_auc: (test=0.511) total time=   0.0s\n",
      "[CV 2/5] END max_iter=4, solver=saga; f1: (test=0.000) roc_auc: (test=0.506) total time=   0.0s\n",
      "[CV 3/5] END max_iter=4, solver=saga; f1: (test=0.000) roc_auc: (test=0.510) total time=   0.0s\n",
      "[CV 4/5] END max_iter=4, solver=saga; f1: (test=0.000) roc_auc: (test=0.539) total time=   0.0s\n",
      "[CV 5/5] END max_iter=4, solver=saga; f1: (test=0.000) roc_auc: (test=0.490) total time=   0.0s\n",
      "[CV 1/5] END max_iter=5, solver=newton-cg; f1: (test=0.000) roc_auc: (test=0.512) total time=   0.0s\n",
      "[CV 2/5] END max_iter=5, solver=newton-cg; f1: (test=0.000) roc_auc: (test=0.497) total time=   0.0s\n",
      "[CV 3/5] END max_iter=5, solver=newton-cg; f1: (test=0.000) roc_auc: (test=0.512) total time=   0.0s\n",
      "[CV 4/5] END max_iter=5, solver=newton-cg; f1: (test=0.008) roc_auc: (test=0.547) total time=   0.0s\n",
      "[CV 5/5] END max_iter=5, solver=newton-cg; f1: (test=0.000) roc_auc: (test=0.494) total time=   0.0s\n",
      "[CV 1/5] END max_iter=5, solver=lbfgs; f1: (test=0.000) roc_auc: (test=0.479) total time=   0.0s\n",
      "[CV 2/5] END max_iter=5, solver=lbfgs; f1: (test=0.000) roc_auc: (test=0.513) total time=   0.0s\n",
      "[CV 3/5] END max_iter=5, solver=lbfgs; f1: (test=0.000) roc_auc: (test=0.500) total time=   0.0s\n",
      "[CV 4/5] END max_iter=5, solver=lbfgs; f1: (test=0.000) roc_auc: (test=0.498) total time=   0.0s\n",
      "[CV 5/5] END max_iter=5, solver=lbfgs; f1: (test=0.000) roc_auc: (test=0.452) total time=   0.0s\n",
      "[CV 1/5] END max_iter=5, solver=liblinear; f1: (test=0.000) roc_auc: (test=0.518) total time=   0.0s\n",
      "[CV 2/5] END max_iter=5, solver=liblinear; f1: (test=0.000) roc_auc: (test=0.508) total time=   0.0s\n",
      "[CV 3/5] END max_iter=5, solver=liblinear; f1: (test=0.000) roc_auc: (test=0.502) total time=   0.0s\n",
      "[CV 4/5] END max_iter=5, solver=liblinear; f1: (test=0.000) roc_auc: (test=0.544) total time=   0.0s\n",
      "[CV 5/5] END max_iter=5, solver=liblinear; f1: (test=0.000) roc_auc: (test=0.490) total time=   0.0s\n",
      "[CV 1/5] END max_iter=5, solver=sag; f1: (test=0.000) roc_auc: (test=0.500) total time=   0.0s\n",
      "[CV 2/5] END max_iter=5, solver=sag; f1: (test=0.000) roc_auc: (test=0.513) total time=   0.0s\n",
      "[CV 3/5] END max_iter=5, solver=sag; f1: (test=0.016) roc_auc: (test=0.529) total time=   0.0s\n",
      "[CV 4/5] END max_iter=5, solver=sag; f1: (test=0.024) roc_auc: (test=0.546) total time=   0.0s\n",
      "[CV 5/5] END max_iter=5, solver=sag; f1: (test=0.016) roc_auc: (test=0.526) total time=   0.0s\n",
      "[CV 1/5] END max_iter=5, solver=saga; f1: (test=0.000) roc_auc: (test=0.517) total time=   0.0s\n",
      "[CV 2/5] END max_iter=5, solver=saga; f1: (test=0.000) roc_auc: (test=0.505) total time=   0.0s\n",
      "[CV 3/5] END max_iter=5, solver=saga; f1: (test=0.000) roc_auc: (test=0.510) total time=   0.0s\n",
      "[CV 4/5] END max_iter=5, solver=saga; f1: (test=0.000) roc_auc: (test=0.541) total time=   0.0s\n",
      "[CV 5/5] END max_iter=5, solver=saga; f1: (test=0.000) roc_auc: (test=0.493) total time=   0.0s\n",
      "[CV 1/5] END max_iter=6, solver=newton-cg; f1: (test=0.000) roc_auc: (test=0.511) total time=   0.0s\n",
      "[CV 2/5] END max_iter=6, solver=newton-cg; f1: (test=0.000) roc_auc: (test=0.501) total time=   0.0s\n",
      "[CV 3/5] END max_iter=6, solver=newton-cg; f1: (test=0.016) roc_auc: (test=0.538) total time=   0.0s\n",
      "[CV 4/5] END max_iter=6, solver=newton-cg; f1: (test=0.016) roc_auc: (test=0.567) total time=   0.0s\n",
      "[CV 5/5] END max_iter=6, solver=newton-cg; f1: (test=0.000) roc_auc: (test=0.493) total time=   0.0s\n",
      "[CV 1/5] END max_iter=6, solver=lbfgs; f1: (test=0.000) roc_auc: (test=0.486) total time=   0.0s\n",
      "[CV 2/5] END max_iter=6, solver=lbfgs; f1: (test=0.000) roc_auc: (test=0.523) total time=   0.0s\n",
      "[CV 3/5] END max_iter=6, solver=lbfgs; f1: (test=0.008) roc_auc: (test=0.509) total time=   0.0s\n",
      "[CV 4/5] END max_iter=6, solver=lbfgs; f1: (test=0.008) roc_auc: (test=0.510) total time=   0.0s\n",
      "[CV 5/5] END max_iter=6, solver=lbfgs; f1: (test=0.000) roc_auc: (test=0.457) total time=   0.0s\n",
      "[CV 1/5] END max_iter=6, solver=liblinear; f1: (test=0.000) roc_auc: (test=0.517) total time=   0.0s\n",
      "[CV 2/5] END max_iter=6, solver=liblinear; f1: (test=0.000) roc_auc: (test=0.510) total time=   0.0s\n",
      "[CV 3/5] END max_iter=6, solver=liblinear; f1: (test=0.000) roc_auc: (test=0.502) total time=   0.0s\n",
      "[CV 4/5] END max_iter=6, solver=liblinear; f1: (test=0.000) roc_auc: (test=0.542) total time=   0.0s\n",
      "[CV 5/5] END max_iter=6, solver=liblinear; f1: (test=0.000) roc_auc: (test=0.509) total time=   0.0s\n",
      "[CV 1/5] END max_iter=6, solver=sag; f1: (test=0.000) roc_auc: (test=0.518) total time=   0.0s\n",
      "[CV 2/5] END max_iter=6, solver=sag; f1: (test=0.000) roc_auc: (test=0.496) total time=   0.0s\n",
      "[CV 3/5] END max_iter=6, solver=sag; f1: (test=0.000) roc_auc: (test=0.518) total time=   0.0s\n",
      "[CV 4/5] END max_iter=6, solver=sag; f1: (test=0.024) roc_auc: (test=0.557) total time=   0.0s\n",
      "[CV 5/5] END max_iter=6, solver=sag; f1: (test=0.000) roc_auc: (test=0.505) total time=   0.0s\n",
      "[CV 1/5] END max_iter=6, solver=saga; f1: (test=0.000) roc_auc: (test=0.522) total time=   0.0s\n",
      "[CV 2/5] END max_iter=6, solver=saga; f1: (test=0.000) roc_auc: (test=0.507) total time=   0.0s\n",
      "[CV 3/5] END max_iter=6, solver=saga; f1: (test=0.000) roc_auc: (test=0.510) total time=   0.0s\n",
      "[CV 4/5] END max_iter=6, solver=saga; f1: (test=0.000) roc_auc: (test=0.542) total time=   0.0s\n",
      "[CV 5/5] END max_iter=6, solver=saga; f1: (test=0.000) roc_auc: (test=0.497) total time=   0.0s\n",
      "[CV 1/5] END max_iter=7, solver=newton-cg; f1: (test=0.000) roc_auc: (test=0.517) total time=   0.0s\n",
      "[CV 2/5] END max_iter=7, solver=newton-cg; f1: (test=0.000) roc_auc: (test=0.508) total time=   0.0s\n",
      "[CV 3/5] END max_iter=7, solver=newton-cg; f1: (test=0.016) roc_auc: (test=0.539) total time=   0.0s\n",
      "[CV 4/5] END max_iter=7, solver=newton-cg; f1: (test=0.083) roc_auc: (test=0.599) total time=   0.0s\n",
      "[CV 5/5] END max_iter=7, solver=newton-cg; f1: (test=0.000) roc_auc: (test=0.496) total time=   0.0s\n",
      "[CV 1/5] END max_iter=7, solver=lbfgs; f1: (test=0.008) roc_auc: (test=0.497) total time=   0.0s\n",
      "[CV 2/5] END max_iter=7, solver=lbfgs; f1: (test=0.000) roc_auc: (test=0.530) total time=   0.0s\n",
      "[CV 3/5] END max_iter=7, solver=lbfgs; f1: (test=0.031) roc_auc: (test=0.527) total time=   0.0s\n",
      "[CV 4/5] END max_iter=7, solver=lbfgs; f1: (test=0.031) roc_auc: (test=0.529) total time=   0.0s\n",
      "[CV 5/5] END max_iter=7, solver=lbfgs; f1: (test=0.016) roc_auc: (test=0.467) total time=   0.0s\n",
      "[CV 1/5] END max_iter=7, solver=liblinear; f1: (test=0.000) roc_auc: (test=0.534) total time=   0.0s\n",
      "[CV 2/5] END max_iter=7, solver=liblinear; f1: (test=0.000) roc_auc: (test=0.524) total time=   0.0s\n",
      "[CV 3/5] END max_iter=7, solver=liblinear; f1: (test=0.000) roc_auc: (test=0.513) total time=   0.0s\n",
      "[CV 4/5] END max_iter=7, solver=liblinear; f1: (test=0.016) roc_auc: (test=0.558) total time=   0.0s\n",
      "[CV 5/5] END max_iter=7, solver=liblinear; f1: (test=0.000) roc_auc: (test=0.517) total time=   0.0s\n",
      "[CV 1/5] END max_iter=7, solver=sag; f1: (test=0.000) roc_auc: (test=0.529) total time=   0.0s\n",
      "[CV 2/5] END max_iter=7, solver=sag; f1: (test=0.000) roc_auc: (test=0.523) total time=   0.0s\n",
      "[CV 3/5] END max_iter=7, solver=sag; f1: (test=0.016) roc_auc: (test=0.522) total time=   0.0s\n",
      "[CV 4/5] END max_iter=7, solver=sag; f1: (test=0.000) roc_auc: (test=0.546) total time=   0.0s\n",
      "[CV 5/5] END max_iter=7, solver=sag; f1: (test=0.000) roc_auc: (test=0.519) total time=   0.0s\n",
      "[CV 1/5] END max_iter=7, solver=saga; f1: (test=0.000) roc_auc: (test=0.519) total time=   0.0s\n",
      "[CV 2/5] END max_iter=7, solver=saga; f1: (test=0.000) roc_auc: (test=0.508) total time=   0.0s\n",
      "[CV 3/5] END max_iter=7, solver=saga; f1: (test=0.000) roc_auc: (test=0.512) total time=   0.0s\n",
      "[CV 4/5] END max_iter=7, solver=saga; f1: (test=0.008) roc_auc: (test=0.545) total time=   0.0s\n",
      "[CV 5/5] END max_iter=7, solver=saga; f1: (test=0.000) roc_auc: (test=0.498) total time=   0.0s\n",
      "[CV 1/5] END max_iter=8, solver=newton-cg; f1: (test=0.000) roc_auc: (test=0.524) total time=   0.0s\n",
      "[CV 2/5] END max_iter=8, solver=newton-cg; f1: (test=0.000) roc_auc: (test=0.508) total time=   0.0s\n"
     ]
    },
    {
     "name": "stdout",
     "output_type": "stream",
     "text": [
      "[CV 3/5] END max_iter=8, solver=newton-cg; f1: (test=0.024) roc_auc: (test=0.549) total time=   0.0s\n",
      "[CV 4/5] END max_iter=8, solver=newton-cg; f1: (test=0.083) roc_auc: (test=0.599) total time=   0.0s\n",
      "[CV 5/5] END max_iter=8, solver=newton-cg; f1: (test=0.000) roc_auc: (test=0.503) total time=   0.0s\n",
      "[CV 1/5] END max_iter=8, solver=lbfgs; f1: (test=0.015) roc_auc: (test=0.510) total time=   0.0s\n",
      "[CV 2/5] END max_iter=8, solver=lbfgs; f1: (test=0.000) roc_auc: (test=0.508) total time=   0.0s\n",
      "[CV 3/5] END max_iter=8, solver=lbfgs; f1: (test=0.008) roc_auc: (test=0.531) total time=   0.0s\n",
      "[CV 4/5] END max_iter=8, solver=lbfgs; f1: (test=0.031) roc_auc: (test=0.547) total time=   0.0s\n",
      "[CV 5/5] END max_iter=8, solver=lbfgs; f1: (test=0.037) roc_auc: (test=0.478) total time=   0.0s\n",
      "[CV 1/5] END max_iter=8, solver=liblinear; f1: (test=0.000) roc_auc: (test=0.551) total time=   0.0s\n",
      "[CV 2/5] END max_iter=8, solver=liblinear; f1: (test=0.000) roc_auc: (test=0.541) total time=   0.0s\n",
      "[CV 3/5] END max_iter=8, solver=liblinear; f1: (test=0.000) roc_auc: (test=0.512) total time=   0.0s\n",
      "[CV 4/5] END max_iter=8, solver=liblinear; f1: (test=0.016) roc_auc: (test=0.572) total time=   0.0s\n",
      "[CV 5/5] END max_iter=8, solver=liblinear; f1: (test=0.016) roc_auc: (test=0.553) total time=   0.0s\n",
      "[CV 1/5] END max_iter=8, solver=sag; f1: (test=0.000) roc_auc: (test=0.524) total time=   0.0s\n",
      "[CV 2/5] END max_iter=8, solver=sag; f1: (test=0.000) roc_auc: (test=0.525) total time=   0.0s\n",
      "[CV 3/5] END max_iter=8, solver=sag; f1: (test=0.000) roc_auc: (test=0.507) total time=   0.0s\n",
      "[CV 4/5] END max_iter=8, solver=sag; f1: (test=0.016) roc_auc: (test=0.555) total time=   0.0s\n",
      "[CV 5/5] END max_iter=8, solver=sag; f1: (test=0.000) roc_auc: (test=0.502) total time=   0.0s\n",
      "[CV 1/5] END max_iter=8, solver=saga; f1: (test=0.000) roc_auc: (test=0.521) total time=   0.0s\n",
      "[CV 2/5] END max_iter=8, solver=saga; f1: (test=0.000) roc_auc: (test=0.510) total time=   0.0s\n",
      "[CV 3/5] END max_iter=8, solver=saga; f1: (test=0.000) roc_auc: (test=0.513) total time=   0.0s\n",
      "[CV 4/5] END max_iter=8, solver=saga; f1: (test=0.000) roc_auc: (test=0.545) total time=   0.0s\n",
      "[CV 5/5] END max_iter=8, solver=saga; f1: (test=0.000) roc_auc: (test=0.500) total time=   0.0s\n",
      "[CV 1/5] END max_iter=9, solver=newton-cg; f1: (test=0.000) roc_auc: (test=0.524) total time=   0.0s\n",
      "[CV 2/5] END max_iter=9, solver=newton-cg; f1: (test=0.000) roc_auc: (test=0.523) total time=   0.0s\n",
      "[CV 3/5] END max_iter=9, solver=newton-cg; f1: (test=0.062) roc_auc: (test=0.567) total time=   0.0s\n",
      "[CV 4/5] END max_iter=9, solver=newton-cg; f1: (test=0.090) roc_auc: (test=0.602) total time=   0.0s\n",
      "[CV 5/5] END max_iter=9, solver=newton-cg; f1: (test=0.008) roc_auc: (test=0.530) total time=   0.0s\n",
      "[CV 1/5] END max_iter=9, solver=lbfgs; f1: (test=0.000) roc_auc: (test=0.525) total time=   0.0s\n",
      "[CV 2/5] END max_iter=9, solver=lbfgs; f1: (test=0.000) roc_auc: (test=0.511) total time=   0.0s\n",
      "[CV 3/5] END max_iter=9, solver=lbfgs; f1: (test=0.008) roc_auc: (test=0.521) total time=   0.0s\n",
      "[CV 4/5] END max_iter=9, solver=lbfgs; f1: (test=0.000) roc_auc: (test=0.540) total time=   0.0s\n",
      "[CV 5/5] END max_iter=9, solver=lbfgs; f1: (test=0.038) roc_auc: (test=0.497) total time=   0.0s\n",
      "[CV 1/5] END max_iter=9, solver=liblinear; f1: (test=0.031) roc_auc: (test=0.579) total time=   0.0s\n",
      "[CV 2/5] END max_iter=9, solver=liblinear; f1: (test=0.083) roc_auc: (test=0.574) total time=   0.0s\n",
      "[CV 3/5] END max_iter=9, solver=liblinear; f1: (test=0.000) roc_auc: (test=0.523) total time=   0.0s\n",
      "[CV 4/5] END max_iter=9, solver=liblinear; f1: (test=0.095) roc_auc: (test=0.605) total time=   0.0s\n",
      "[CV 5/5] END max_iter=9, solver=liblinear; f1: (test=0.092) roc_auc: (test=0.588) total time=   0.0s\n",
      "[CV 1/5] END max_iter=9, solver=sag; f1: (test=0.000) roc_auc: (test=0.519) total time=   0.0s\n",
      "[CV 2/5] END max_iter=9, solver=sag; f1: (test=0.000) roc_auc: (test=0.503) total time=   0.0s\n",
      "[CV 3/5] END max_iter=9, solver=sag; f1: (test=0.032) roc_auc: (test=0.523) total time=   0.0s\n",
      "[CV 4/5] END max_iter=9, solver=sag; f1: (test=0.024) roc_auc: (test=0.558) total time=   0.0s\n",
      "[CV 5/5] END max_iter=9, solver=sag; f1: (test=0.000) roc_auc: (test=0.517) total time=   0.0s\n",
      "[CV 1/5] END max_iter=9, solver=saga; f1: (test=0.000) roc_auc: (test=0.521) total time=   0.0s\n",
      "[CV 2/5] END max_iter=9, solver=saga; f1: (test=0.000) roc_auc: (test=0.511) total time=   0.0s\n",
      "[CV 3/5] END max_iter=9, solver=saga; f1: (test=0.000) roc_auc: (test=0.513) total time=   0.0s\n",
      "[CV 4/5] END max_iter=9, solver=saga; f1: (test=0.008) roc_auc: (test=0.547) total time=   0.0s\n",
      "[CV 5/5] END max_iter=9, solver=saga; f1: (test=0.000) roc_auc: (test=0.506) total time=   0.0s\n",
      "[CV 1/5] END max_iter=10, solver=newton-cg; f1: (test=0.008) roc_auc: (test=0.545) total time=   0.0s\n",
      "[CV 2/5] END max_iter=10, solver=newton-cg; f1: (test=0.016) roc_auc: (test=0.548) total time=   0.0s\n",
      "[CV 3/5] END max_iter=10, solver=newton-cg; f1: (test=0.062) roc_auc: (test=0.567) total time=   0.0s\n",
      "[CV 4/5] END max_iter=10, solver=newton-cg; f1: (test=0.081) roc_auc: (test=0.616) total time=   0.0s\n",
      "[CV 5/5] END max_iter=10, solver=newton-cg; f1: (test=0.008) roc_auc: (test=0.535) total time=   0.0s\n",
      "[CV 1/5] END max_iter=10, solver=lbfgs; f1: (test=0.000) roc_auc: (test=0.525) total time=   0.0s\n",
      "[CV 2/5] END max_iter=10, solver=lbfgs; f1: (test=0.000) roc_auc: (test=0.511) total time=   0.0s\n",
      "[CV 3/5] END max_iter=10, solver=lbfgs; f1: (test=0.000) roc_auc: (test=0.514) total time=   0.0s\n",
      "[CV 4/5] END max_iter=10, solver=lbfgs; f1: (test=0.008) roc_auc: (test=0.547) total time=   0.0s\n",
      "[CV 5/5] END max_iter=10, solver=lbfgs; f1: (test=0.008) roc_auc: (test=0.508) total time=   0.0s\n",
      "[CV 1/5] END max_iter=10, solver=liblinear; f1: (test=0.031) roc_auc: (test=0.579) total time=   0.0s\n",
      "[CV 2/5] END max_iter=10, solver=liblinear; f1: (test=0.068) roc_auc: (test=0.574) total time=   0.0s\n",
      "[CV 3/5] END max_iter=10, solver=liblinear; f1: (test=0.016) roc_auc: (test=0.547) total time=   0.0s\n",
      "[CV 4/5] END max_iter=10, solver=liblinear; f1: (test=0.095) roc_auc: (test=0.605) total time=   0.0s\n",
      "[CV 5/5] END max_iter=10, solver=liblinear; f1: (test=0.092) roc_auc: (test=0.588) total time=   0.0s\n",
      "[CV 1/5] END max_iter=10, solver=sag; f1: (test=0.000) roc_auc: (test=0.522) total time=   0.0s\n",
      "[CV 2/5] END max_iter=10, solver=sag; f1: (test=0.000) roc_auc: (test=0.510) total time=   0.0s\n",
      "[CV 3/5] END max_iter=10, solver=sag; f1: (test=0.000) roc_auc: (test=0.517) total time=   0.0s\n",
      "[CV 4/5] END max_iter=10, solver=sag; f1: (test=0.008) roc_auc: (test=0.550) total time=   0.0s\n",
      "[CV 5/5] END max_iter=10, solver=sag; f1: (test=0.000) roc_auc: (test=0.505) total time=   0.0s\n",
      "[CV 1/5] END max_iter=10, solver=saga; f1: (test=0.000) roc_auc: (test=0.522) total time=   0.0s\n",
      "[CV 2/5] END max_iter=10, solver=saga; f1: (test=0.000) roc_auc: (test=0.511) total time=   0.0s\n",
      "[CV 3/5] END max_iter=10, solver=saga; f1: (test=0.000) roc_auc: (test=0.513) total time=   0.0s\n",
      "[CV 4/5] END max_iter=10, solver=saga; f1: (test=0.008) roc_auc: (test=0.548) total time=   0.0s\n",
      "[CV 5/5] END max_iter=10, solver=saga; f1: (test=0.000) roc_auc: (test=0.505) total time=   0.0s\n",
      "[CV 1/5] END max_iter=11, solver=newton-cg; f1: (test=0.031) roc_auc: (test=0.580) total time=   0.0s\n",
      "[CV 2/5] END max_iter=11, solver=newton-cg; f1: (test=0.016) roc_auc: (test=0.548) total time=   0.0s\n",
      "[CV 3/5] END max_iter=11, solver=newton-cg; f1: (test=0.076) roc_auc: (test=0.573) total time=   0.0s\n",
      "[CV 4/5] END max_iter=11, solver=newton-cg; f1: (test=0.081) roc_auc: (test=0.616) total time=   0.0s\n",
      "[CV 5/5] END max_iter=11, solver=newton-cg; f1: (test=0.016) roc_auc: (test=0.545) total time=   0.0s\n",
      "[CV 1/5] END max_iter=11, solver=lbfgs; f1: (test=0.000) roc_auc: (test=0.523) total time=   0.0s\n",
      "[CV 2/5] END max_iter=11, solver=lbfgs; f1: (test=0.000) roc_auc: (test=0.510) total time=   0.0s\n",
      "[CV 3/5] END max_iter=11, solver=lbfgs; f1: (test=0.000) roc_auc: (test=0.512) total time=   0.0s\n",
      "[CV 4/5] END max_iter=11, solver=lbfgs; f1: (test=0.008) roc_auc: (test=0.549) total time=   0.0s\n",
      "[CV 5/5] END max_iter=11, solver=lbfgs; f1: (test=0.000) roc_auc: (test=0.510) total time=   0.0s\n",
      "[CV 1/5] END max_iter=11, solver=liblinear; f1: (test=0.099) roc_auc: (test=0.610) total time=   0.0s\n",
      "[CV 2/5] END max_iter=11, solver=liblinear; f1: (test=0.125) roc_auc: (test=0.604) total time=   0.0s\n"
     ]
    },
    {
     "name": "stdout",
     "output_type": "stream",
     "text": [
      "[CV 3/5] END max_iter=11, solver=liblinear; f1: (test=0.114) roc_auc: (test=0.590) total time=   0.0s\n",
      "[CV 4/5] END max_iter=11, solver=liblinear; f1: (test=0.141) roc_auc: (test=0.628) total time=   0.0s\n",
      "[CV 5/5] END max_iter=11, solver=liblinear; f1: (test=0.045) roc_auc: (test=0.581) total time=   0.0s\n",
      "[CV 1/5] END max_iter=11, solver=sag; f1: (test=0.000) roc_auc: (test=0.529) total time=   0.0s\n",
      "[CV 2/5] END max_iter=11, solver=sag; f1: (test=0.000) roc_auc: (test=0.518) total time=   0.0s\n",
      "[CV 3/5] END max_iter=11, solver=sag; f1: (test=0.000) roc_auc: (test=0.518) total time=   0.0s\n",
      "[CV 4/5] END max_iter=11, solver=sag; f1: (test=0.000) roc_auc: (test=0.550) total time=   0.0s\n",
      "[CV 5/5] END max_iter=11, solver=sag; f1: (test=0.000) roc_auc: (test=0.514) total time=   0.0s\n",
      "[CV 1/5] END max_iter=11, solver=saga; f1: (test=0.000) roc_auc: (test=0.523) total time=   0.0s\n",
      "[CV 2/5] END max_iter=11, solver=saga; f1: (test=0.000) roc_auc: (test=0.511) total time=   0.0s\n",
      "[CV 3/5] END max_iter=11, solver=saga; f1: (test=0.000) roc_auc: (test=0.513) total time=   0.0s\n",
      "[CV 4/5] END max_iter=11, solver=saga; f1: (test=0.008) roc_auc: (test=0.549) total time=   0.0s\n",
      "[CV 5/5] END max_iter=11, solver=saga; f1: (test=0.000) roc_auc: (test=0.506) total time=   0.0s\n",
      "[CV 1/5] END max_iter=12, solver=newton-cg; f1: (test=0.031) roc_auc: (test=0.580) total time=   0.0s\n",
      "[CV 2/5] END max_iter=12, solver=newton-cg; f1: (test=0.032) roc_auc: (test=0.558) total time=   0.0s\n",
      "[CV 3/5] END max_iter=12, solver=newton-cg; f1: (test=0.089) roc_auc: (test=0.584) total time=   0.0s\n",
      "[CV 4/5] END max_iter=12, solver=newton-cg; f1: (test=0.087) roc_auc: (test=0.619) total time=   0.0s\n",
      "[CV 5/5] END max_iter=12, solver=newton-cg; f1: (test=0.023) roc_auc: (test=0.563) total time=   0.0s\n",
      "[CV 1/5] END max_iter=12, solver=lbfgs; f1: (test=0.000) roc_auc: (test=0.522) total time=   0.0s\n",
      "[CV 2/5] END max_iter=12, solver=lbfgs; f1: (test=0.000) roc_auc: (test=0.510) total time=   0.0s\n",
      "[CV 3/5] END max_iter=12, solver=lbfgs; f1: (test=0.000) roc_auc: (test=0.512) total time=   0.0s\n",
      "[CV 4/5] END max_iter=12, solver=lbfgs; f1: (test=0.008) roc_auc: (test=0.549) total time=   0.0s\n",
      "[CV 5/5] END max_iter=12, solver=lbfgs; f1: (test=0.000) roc_auc: (test=0.509) total time=   0.0s\n",
      "[CV 1/5] END max_iter=12, solver=liblinear; f1: (test=0.099) roc_auc: (test=0.610) total time=   0.0s\n",
      "[CV 2/5] END max_iter=12, solver=liblinear; f1: (test=0.125) roc_auc: (test=0.604) total time=   0.0s\n",
      "[CV 3/5] END max_iter=12, solver=liblinear; f1: (test=0.114) roc_auc: (test=0.590) total time=   0.0s\n",
      "[CV 4/5] END max_iter=12, solver=liblinear; f1: (test=0.141) roc_auc: (test=0.628) total time=   0.0s\n",
      "[CV 5/5] END max_iter=12, solver=liblinear; f1: (test=0.045) roc_auc: (test=0.580) total time=   0.0s\n",
      "[CV 1/5] END max_iter=12, solver=sag; f1: (test=0.000) roc_auc: (test=0.530) total time=   0.0s\n",
      "[CV 2/5] END max_iter=12, solver=sag; f1: (test=0.000) roc_auc: (test=0.510) total time=   0.0s\n",
      "[CV 3/5] END max_iter=12, solver=sag; f1: (test=0.000) roc_auc: (test=0.512) total time=   0.0s\n",
      "[CV 4/5] END max_iter=12, solver=sag; f1: (test=0.000) roc_auc: (test=0.549) total time=   0.0s\n",
      "[CV 5/5] END max_iter=12, solver=sag; f1: (test=0.000) roc_auc: (test=0.509) total time=   0.0s\n",
      "[CV 1/5] END max_iter=12, solver=saga; f1: (test=0.000) roc_auc: (test=0.524) total time=   0.0s\n",
      "[CV 2/5] END max_iter=12, solver=saga; f1: (test=0.000) roc_auc: (test=0.511) total time=   0.0s\n",
      "[CV 3/5] END max_iter=12, solver=saga; f1: (test=0.000) roc_auc: (test=0.514) total time=   0.0s\n",
      "[CV 4/5] END max_iter=12, solver=saga; f1: (test=0.008) roc_auc: (test=0.550) total time=   0.0s\n",
      "[CV 5/5] END max_iter=12, solver=saga; f1: (test=0.000) roc_auc: (test=0.508) total time=   0.0s\n",
      "[CV 1/5] END max_iter=13, solver=newton-cg; f1: (test=0.039) roc_auc: (test=0.595) total time=   0.0s\n",
      "[CV 2/5] END max_iter=13, solver=newton-cg; f1: (test=0.075) roc_auc: (test=0.577) total time=   0.0s\n",
      "[CV 3/5] END max_iter=13, solver=newton-cg; f1: (test=0.096) roc_auc: (test=0.584) total time=   0.0s\n",
      "[CV 4/5] END max_iter=13, solver=newton-cg; f1: (test=0.094) roc_auc: (test=0.632) total time=   0.0s\n",
      "[CV 5/5] END max_iter=13, solver=newton-cg; f1: (test=0.023) roc_auc: (test=0.563) total time=   0.0s\n",
      "[CV 1/5] END max_iter=13, solver=lbfgs; f1: (test=0.000) roc_auc: (test=0.522) total time=   0.0s\n",
      "[CV 2/5] END max_iter=13, solver=lbfgs; f1: (test=0.000) roc_auc: (test=0.509) total time=   0.0s\n",
      "[CV 3/5] END max_iter=13, solver=lbfgs; f1: (test=0.000) roc_auc: (test=0.512) total time=   0.0s\n",
      "[CV 4/5] END max_iter=13, solver=lbfgs; f1: (test=0.008) roc_auc: (test=0.549) total time=   0.0s\n",
      "[CV 5/5] END max_iter=13, solver=lbfgs; f1: (test=0.000) roc_auc: (test=0.508) total time=   0.0s\n",
      "[CV 1/5] END max_iter=13, solver=liblinear; f1: (test=0.061) roc_auc: (test=0.602) total time=   0.0s\n",
      "[CV 2/5] END max_iter=13, solver=liblinear; f1: (test=0.053) roc_auc: (test=0.597) total time=   0.0s\n",
      "[CV 3/5] END max_iter=13, solver=liblinear; f1: (test=0.121) roc_auc: (test=0.595) total time=   0.0s\n",
      "[CV 4/5] END max_iter=13, solver=liblinear; f1: (test=0.087) roc_auc: (test=0.623) total time=   0.0s\n",
      "[CV 5/5] END max_iter=13, solver=liblinear; f1: (test=0.078) roc_auc: (test=0.606) total time=   0.0s\n",
      "[CV 1/5] END max_iter=13, solver=sag; f1: (test=0.000) roc_auc: (test=0.527) total time=   0.0s\n",
      "[CV 2/5] END max_iter=13, solver=sag; f1: (test=0.000) roc_auc: (test=0.519) total time=   0.0s\n",
      "[CV 3/5] END max_iter=13, solver=sag; f1: (test=0.000) roc_auc: (test=0.517) total time=   0.0s\n",
      "[CV 4/5] END max_iter=13, solver=sag; f1: (test=0.016) roc_auc: (test=0.553) total time=   0.0s\n",
      "[CV 5/5] END max_iter=13, solver=sag; f1: (test=0.000) roc_auc: (test=0.513) total time=   0.0s\n",
      "[CV 1/5] END max_iter=13, solver=saga; f1: (test=0.000) roc_auc: (test=0.524) total time=   0.0s\n",
      "[CV 2/5] END max_iter=13, solver=saga; f1: (test=0.000) roc_auc: (test=0.512) total time=   0.0s\n",
      "[CV 3/5] END max_iter=13, solver=saga; f1: (test=0.000) roc_auc: (test=0.515) total time=   0.0s\n",
      "[CV 4/5] END max_iter=13, solver=saga; f1: (test=0.008) roc_auc: (test=0.550) total time=   0.0s\n",
      "[CV 5/5] END max_iter=13, solver=saga; f1: (test=0.000) roc_auc: (test=0.508) total time=   0.0s\n",
      "[CV 1/5] END max_iter=14, solver=newton-cg; f1: (test=0.039) roc_auc: (test=0.595) total time=   0.0s\n",
      "[CV 2/5] END max_iter=14, solver=newton-cg; f1: (test=0.075) roc_auc: (test=0.577) total time=   0.0s\n",
      "[CV 3/5] END max_iter=14, solver=newton-cg; f1: (test=0.103) roc_auc: (test=0.592) total time=   0.0s\n",
      "[CV 4/5] END max_iter=14, solver=newton-cg; f1: (test=0.094) roc_auc: (test=0.632) total time=   0.0s\n",
      "[CV 5/5] END max_iter=14, solver=newton-cg; f1: (test=0.038) roc_auc: (test=0.569) total time=   0.0s\n",
      "[CV 1/5] END max_iter=14, solver=lbfgs; f1: (test=0.000) roc_auc: (test=0.522) total time=   0.0s\n",
      "[CV 2/5] END max_iter=14, solver=lbfgs; f1: (test=0.000) roc_auc: (test=0.508) total time=   0.0s\n",
      "[CV 3/5] END max_iter=14, solver=lbfgs; f1: (test=0.000) roc_auc: (test=0.511) total time=   0.0s\n",
      "[CV 4/5] END max_iter=14, solver=lbfgs; f1: (test=0.008) roc_auc: (test=0.550) total time=   0.0s\n",
      "[CV 5/5] END max_iter=14, solver=lbfgs; f1: (test=0.000) roc_auc: (test=0.507) total time=   0.0s\n",
      "[CV 1/5] END max_iter=14, solver=liblinear; f1: (test=0.046) roc_auc: (test=0.603) total time=   0.0s\n",
      "[CV 2/5] END max_iter=14, solver=liblinear; f1: (test=0.053) roc_auc: (test=0.597) total time=   0.0s\n",
      "[CV 3/5] END max_iter=14, solver=liblinear; f1: (test=0.151) roc_auc: (test=0.618) total time=   0.0s\n",
      "[CV 4/5] END max_iter=14, solver=liblinear; f1: (test=0.087) roc_auc: (test=0.622) total time=   0.0s\n",
      "[CV 5/5] END max_iter=14, solver=liblinear; f1: (test=0.078) roc_auc: (test=0.606) total time=   0.0s\n",
      "[CV 1/5] END max_iter=14, solver=sag; f1: (test=0.000) roc_auc: (test=0.527) total time=   0.0s\n",
      "[CV 2/5] END max_iter=14, solver=sag; f1: (test=0.000) roc_auc: (test=0.519) total time=   0.0s\n",
      "[CV 3/5] END max_iter=14, solver=sag; f1: (test=0.000) roc_auc: (test=0.521) total time=   0.0s\n",
      "[CV 4/5] END max_iter=14, solver=sag; f1: (test=0.016) roc_auc: (test=0.553) total time=   0.0s\n",
      "[CV 5/5] END max_iter=14, solver=sag; f1: (test=0.000) roc_auc: (test=0.512) total time=   0.0s\n",
      "[CV 1/5] END max_iter=14, solver=saga; f1: (test=0.000) roc_auc: (test=0.524) total time=   0.0s\n",
      "[CV 2/5] END max_iter=14, solver=saga; f1: (test=0.000) roc_auc: (test=0.512) total time=   0.0s\n"
     ]
    },
    {
     "name": "stdout",
     "output_type": "stream",
     "text": [
      "[CV 3/5] END max_iter=14, solver=saga; f1: (test=0.000) roc_auc: (test=0.515) total time=   0.0s\n",
      "[CV 4/5] END max_iter=14, solver=saga; f1: (test=0.008) roc_auc: (test=0.550) total time=   0.0s\n",
      "[CV 5/5] END max_iter=14, solver=saga; f1: (test=0.000) roc_auc: (test=0.509) total time=   0.0s\n",
      "[CV 1/5] END max_iter=15, solver=newton-cg; f1: (test=0.047) roc_auc: (test=0.612) total time=   0.0s\n",
      "[CV 2/5] END max_iter=15, solver=newton-cg; f1: (test=0.060) roc_auc: (test=0.588) total time=   0.0s\n",
      "[CV 3/5] END max_iter=15, solver=newton-cg; f1: (test=0.103) roc_auc: (test=0.592) total time=   0.0s\n",
      "[CV 4/5] END max_iter=15, solver=newton-cg; f1: (test=0.088) roc_auc: (test=0.658) total time=   0.0s\n",
      "[CV 5/5] END max_iter=15, solver=newton-cg; f1: (test=0.051) roc_auc: (test=0.581) total time=   0.0s\n",
      "[CV 1/5] END max_iter=15, solver=lbfgs; f1: (test=0.000) roc_auc: (test=0.522) total time=   0.0s\n",
      "[CV 2/5] END max_iter=15, solver=lbfgs; f1: (test=0.000) roc_auc: (test=0.510) total time=   0.0s\n",
      "[CV 3/5] END max_iter=15, solver=lbfgs; f1: (test=0.000) roc_auc: (test=0.513) total time=   0.0s\n",
      "[CV 4/5] END max_iter=15, solver=lbfgs; f1: (test=0.008) roc_auc: (test=0.550) total time=   0.0s\n",
      "[CV 5/5] END max_iter=15, solver=lbfgs; f1: (test=0.000) roc_auc: (test=0.507) total time=   0.0s\n",
      "[CV 1/5] END max_iter=15, solver=liblinear; f1: (test=0.099) roc_auc: (test=0.624) total time=   0.0s\n",
      "[CV 2/5] END max_iter=15, solver=liblinear; f1: (test=0.094) roc_auc: (test=0.621) total time=   0.0s\n",
      "[CV 3/5] END max_iter=15, solver=liblinear; f1: (test=0.152) roc_auc: (test=0.618) total time=   0.0s\n",
      "[CV 4/5] END max_iter=15, solver=liblinear; f1: (test=0.138) roc_auc: (test=0.642) total time=   0.0s\n",
      "[CV 5/5] END max_iter=15, solver=liblinear; f1: (test=0.080) roc_auc: (test=0.613) total time=   0.0s\n",
      "[CV 1/5] END max_iter=15, solver=sag; f1: (test=0.000) roc_auc: (test=0.527) total time=   0.0s\n",
      "[CV 2/5] END max_iter=15, solver=sag; f1: (test=0.000) roc_auc: (test=0.516) total time=   0.0s\n",
      "[CV 3/5] END max_iter=15, solver=sag; f1: (test=0.000) roc_auc: (test=0.519) total time=   0.0s\n",
      "[CV 4/5] END max_iter=15, solver=sag; f1: (test=0.016) roc_auc: (test=0.555) total time=   0.0s\n",
      "[CV 5/5] END max_iter=15, solver=sag; f1: (test=0.000) roc_auc: (test=0.513) total time=   0.0s\n",
      "[CV 1/5] END max_iter=15, solver=saga; f1: (test=0.000) roc_auc: (test=0.525) total time=   0.0s\n",
      "[CV 2/5] END max_iter=15, solver=saga; f1: (test=0.000) roc_auc: (test=0.512) total time=   0.0s\n",
      "[CV 3/5] END max_iter=15, solver=saga; f1: (test=0.000) roc_auc: (test=0.515) total time=   0.0s\n",
      "[CV 4/5] END max_iter=15, solver=saga; f1: (test=0.008) roc_auc: (test=0.551) total time=   0.0s\n",
      "[CV 5/5] END max_iter=15, solver=saga; f1: (test=0.000) roc_auc: (test=0.509) total time=   0.0s\n",
      "[CV 1/5] END max_iter=16, solver=newton-cg; f1: (test=0.047) roc_auc: (test=0.612) total time=   0.0s\n",
      "[CV 2/5] END max_iter=16, solver=newton-cg; f1: (test=0.060) roc_auc: (test=0.588) total time=   0.0s\n",
      "[CV 3/5] END max_iter=16, solver=newton-cg; f1: (test=0.116) roc_auc: (test=0.599) total time=   0.0s\n",
      "[CV 4/5] END max_iter=16, solver=newton-cg; f1: (test=0.088) roc_auc: (test=0.658) total time=   0.0s\n",
      "[CV 5/5] END max_iter=16, solver=newton-cg; f1: (test=0.051) roc_auc: (test=0.581) total time=   0.0s\n",
      "[CV 1/5] END max_iter=16, solver=lbfgs; f1: (test=0.000) roc_auc: (test=0.522) total time=   0.0s\n",
      "[CV 2/5] END max_iter=16, solver=lbfgs; f1: (test=0.000) roc_auc: (test=0.518) total time=   0.0s\n",
      "[CV 3/5] END max_iter=16, solver=lbfgs; f1: (test=0.000) roc_auc: (test=0.514) total time=   0.0s\n",
      "[CV 4/5] END max_iter=16, solver=lbfgs; f1: (test=0.016) roc_auc: (test=0.551) total time=   0.0s\n",
      "[CV 5/5] END max_iter=16, solver=lbfgs; f1: (test=0.000) roc_auc: (test=0.508) total time=   0.0s\n",
      "[CV 1/5] END max_iter=16, solver=liblinear; f1: (test=0.093) roc_auc: (test=0.624) total time=   0.0s\n",
      "[CV 2/5] END max_iter=16, solver=liblinear; f1: (test=0.094) roc_auc: (test=0.621) total time=   0.0s\n",
      "[CV 3/5] END max_iter=16, solver=liblinear; f1: (test=0.134) roc_auc: (test=0.630) total time=   0.0s\n",
      "[CV 4/5] END max_iter=16, solver=liblinear; f1: (test=0.138) roc_auc: (test=0.642) total time=   0.0s\n",
      "[CV 5/5] END max_iter=16, solver=liblinear; f1: (test=0.080) roc_auc: (test=0.613) total time=   0.0s\n",
      "[CV 1/5] END max_iter=16, solver=sag; f1: (test=0.000) roc_auc: (test=0.531) total time=   0.0s\n",
      "[CV 2/5] END max_iter=16, solver=sag; f1: (test=0.000) roc_auc: (test=0.515) total time=   0.0s\n",
      "[CV 3/5] END max_iter=16, solver=sag; f1: (test=0.000) roc_auc: (test=0.517) total time=   0.0s\n",
      "[CV 4/5] END max_iter=16, solver=sag; f1: (test=0.016) roc_auc: (test=0.552) total time=   0.0s\n",
      "[CV 5/5] END max_iter=16, solver=sag; f1: (test=0.000) roc_auc: (test=0.513) total time=   0.0s\n",
      "[CV 1/5] END max_iter=16, solver=saga; f1: (test=0.000) roc_auc: (test=0.525) total time=   0.0s\n",
      "[CV 2/5] END max_iter=16, solver=saga; f1: (test=0.000) roc_auc: (test=0.513) total time=   0.0s\n",
      "[CV 3/5] END max_iter=16, solver=saga; f1: (test=0.000) roc_auc: (test=0.515) total time=   0.0s\n",
      "[CV 4/5] END max_iter=16, solver=saga; f1: (test=0.016) roc_auc: (test=0.551) total time=   0.0s\n",
      "[CV 5/5] END max_iter=16, solver=saga; f1: (test=0.000) roc_auc: (test=0.509) total time=   0.0s\n",
      "[CV 1/5] END max_iter=17, solver=newton-cg; f1: (test=0.054) roc_auc: (test=0.645) total time=   0.0s\n",
      "[CV 2/5] END max_iter=17, solver=newton-cg; f1: (test=0.053) roc_auc: (test=0.595) total time=   0.0s\n",
      "[CV 3/5] END max_iter=17, solver=newton-cg; f1: (test=0.109) roc_auc: (test=0.599) total time=   0.0s\n",
      "[CV 4/5] END max_iter=17, solver=newton-cg; f1: (test=0.081) roc_auc: (test=0.664) total time=   0.0s\n",
      "[CV 5/5] END max_iter=17, solver=newton-cg; f1: (test=0.059) roc_auc: (test=0.592) total time=   0.0s\n",
      "[CV 1/5] END max_iter=17, solver=lbfgs; f1: (test=0.000) roc_auc: (test=0.523) total time=   0.0s\n",
      "[CV 2/5] END max_iter=17, solver=lbfgs; f1: (test=0.008) roc_auc: (test=0.541) total time=   0.0s\n",
      "[CV 3/5] END max_iter=17, solver=lbfgs; f1: (test=0.000) roc_auc: (test=0.519) total time=   0.0s\n",
      "[CV 4/5] END max_iter=17, solver=lbfgs; f1: (test=0.016) roc_auc: (test=0.551) total time=   0.0s\n",
      "[CV 5/5] END max_iter=17, solver=lbfgs; f1: (test=0.000) roc_auc: (test=0.508) total time=   0.0s\n",
      "[CV 1/5] END max_iter=17, solver=liblinear; f1: (test=0.068) roc_auc: (test=0.622) total time=   0.0s\n",
      "[CV 2/5] END max_iter=17, solver=liblinear; f1: (test=0.088) roc_auc: (test=0.631) total time=   0.0s\n",
      "[CV 3/5] END max_iter=17, solver=liblinear; f1: (test=0.134) roc_auc: (test=0.631) total time=   0.0s\n",
      "[CV 4/5] END max_iter=17, solver=liblinear; f1: (test=0.101) roc_auc: (test=0.651) total time=   0.0s\n",
      "[CV 5/5] END max_iter=17, solver=liblinear; f1: (test=0.118) roc_auc: (test=0.633) total time=   0.0s\n",
      "[CV 1/5] END max_iter=17, solver=sag; f1: (test=0.000) roc_auc: (test=0.528) total time=   0.0s\n",
      "[CV 2/5] END max_iter=17, solver=sag; f1: (test=0.000) roc_auc: (test=0.517) total time=   0.0s\n",
      "[CV 3/5] END max_iter=17, solver=sag; f1: (test=0.000) roc_auc: (test=0.519) total time=   0.0s\n",
      "[CV 4/5] END max_iter=17, solver=sag; f1: (test=0.016) roc_auc: (test=0.555) total time=   0.0s\n",
      "[CV 5/5] END max_iter=17, solver=sag; f1: (test=0.000) roc_auc: (test=0.514) total time=   0.0s\n",
      "[CV 1/5] END max_iter=17, solver=saga; f1: (test=0.000) roc_auc: (test=0.525) total time=   0.0s\n",
      "[CV 2/5] END max_iter=17, solver=saga; f1: (test=0.000) roc_auc: (test=0.513) total time=   0.0s\n",
      "[CV 3/5] END max_iter=17, solver=saga; f1: (test=0.000) roc_auc: (test=0.515) total time=   0.0s\n",
      "[CV 4/5] END max_iter=17, solver=saga; f1: (test=0.016) roc_auc: (test=0.551) total time=   0.0s\n",
      "[CV 5/5] END max_iter=17, solver=saga; f1: (test=0.000) roc_auc: (test=0.510) total time=   0.0s\n",
      "[CV 1/5] END max_iter=18, solver=newton-cg; f1: (test=0.046) roc_auc: (test=0.645) total time=   0.0s\n",
      "[CV 2/5] END max_iter=18, solver=newton-cg; f1: (test=0.119) roc_auc: (test=0.613) total time=   0.0s\n",
      "[CV 3/5] END max_iter=18, solver=newton-cg; f1: (test=0.109) roc_auc: (test=0.605) total time=   0.0s\n",
      "[CV 4/5] END max_iter=18, solver=newton-cg; f1: (test=0.081) roc_auc: (test=0.664) total time=   0.0s\n",
      "[CV 5/5] END max_iter=18, solver=newton-cg; f1: (test=0.059) roc_auc: (test=0.592) total time=   0.0s\n"
     ]
    },
    {
     "name": "stdout",
     "output_type": "stream",
     "text": [
      "[CV 1/5] END max_iter=18, solver=lbfgs; f1: (test=0.000) roc_auc: (test=0.525) total time=   0.0s\n",
      "[CV 2/5] END max_iter=18, solver=lbfgs; f1: (test=0.054) roc_auc: (test=0.548) total time=   0.0s\n",
      "[CV 3/5] END max_iter=18, solver=lbfgs; f1: (test=0.008) roc_auc: (test=0.528) total time=   0.0s\n",
      "[CV 4/5] END max_iter=18, solver=lbfgs; f1: (test=0.016) roc_auc: (test=0.554) total time=   0.0s\n",
      "[CV 5/5] END max_iter=18, solver=lbfgs; f1: (test=0.000) roc_auc: (test=0.509) total time=   0.0s\n",
      "[CV 1/5] END max_iter=18, solver=liblinear; f1: (test=0.068) roc_auc: (test=0.621) total time=   0.0s\n",
      "[CV 2/5] END max_iter=18, solver=liblinear; f1: (test=0.088) roc_auc: (test=0.631) total time=   0.0s\n",
      "[CV 3/5] END max_iter=18, solver=liblinear; f1: (test=0.167) roc_auc: (test=0.685) total time=   0.0s\n",
      "[CV 4/5] END max_iter=18, solver=liblinear; f1: (test=0.101) roc_auc: (test=0.651) total time=   0.0s\n",
      "[CV 5/5] END max_iter=18, solver=liblinear; f1: (test=0.118) roc_auc: (test=0.633) total time=   0.0s\n",
      "[CV 1/5] END max_iter=18, solver=sag; f1: (test=0.000) roc_auc: (test=0.530) total time=   0.0s\n",
      "[CV 2/5] END max_iter=18, solver=sag; f1: (test=0.000) roc_auc: (test=0.517) total time=   0.0s\n",
      "[CV 3/5] END max_iter=18, solver=sag; f1: (test=0.000) roc_auc: (test=0.519) total time=   0.0s\n",
      "[CV 4/5] END max_iter=18, solver=sag; f1: (test=0.016) roc_auc: (test=0.554) total time=   0.0s\n",
      "[CV 5/5] END max_iter=18, solver=sag; f1: (test=0.000) roc_auc: (test=0.514) total time=   0.0s\n",
      "[CV 1/5] END max_iter=18, solver=saga; f1: (test=0.000) roc_auc: (test=0.525) total time=   0.0s\n",
      "[CV 2/5] END max_iter=18, solver=saga; f1: (test=0.000) roc_auc: (test=0.513) total time=   0.0s\n",
      "[CV 3/5] END max_iter=18, solver=saga; f1: (test=0.000) roc_auc: (test=0.515) total time=   0.0s\n",
      "[CV 4/5] END max_iter=18, solver=saga; f1: (test=0.016) roc_auc: (test=0.551) total time=   0.0s\n",
      "[CV 5/5] END max_iter=18, solver=saga; f1: (test=0.000) roc_auc: (test=0.510) total time=   0.0s\n",
      "[CV 1/5] END max_iter=19, solver=newton-cg; f1: (test=0.061) roc_auc: (test=0.646) total time=   0.0s\n",
      "[CV 2/5] END max_iter=19, solver=newton-cg; f1: (test=0.119) roc_auc: (test=0.613) total time=   0.0s\n",
      "[CV 3/5] END max_iter=19, solver=newton-cg; f1: (test=0.109) roc_auc: (test=0.604) total time=   0.0s\n",
      "[CV 4/5] END max_iter=19, solver=newton-cg; f1: (test=0.088) roc_auc: (test=0.668) total time=   0.0s\n",
      "[CV 5/5] END max_iter=19, solver=newton-cg; f1: (test=0.101) roc_auc: (test=0.659) total time=   0.0s\n",
      "[CV 1/5] END max_iter=19, solver=lbfgs; f1: (test=0.000) roc_auc: (test=0.532) total time=   0.0s\n",
      "[CV 2/5] END max_iter=19, solver=lbfgs; f1: (test=0.082) roc_auc: (test=0.577) total time=   0.0s\n",
      "[CV 3/5] END max_iter=19, solver=lbfgs; f1: (test=0.024) roc_auc: (test=0.547) total time=   0.0s\n",
      "[CV 4/5] END max_iter=19, solver=lbfgs; f1: (test=0.016) roc_auc: (test=0.558) total time=   0.0s\n",
      "[CV 5/5] END max_iter=19, solver=lbfgs; f1: (test=0.000) roc_auc: (test=0.511) total time=   0.0s\n",
      "[CV 1/5] END max_iter=19, solver=liblinear; f1: (test=0.129) roc_auc: (test=0.640) total time=   0.0s\n",
      "[CV 2/5] END max_iter=19, solver=liblinear; f1: (test=0.087) roc_auc: (test=0.654) total time=   0.0s\n",
      "[CV 3/5] END max_iter=19, solver=liblinear; f1: (test=0.148) roc_auc: (test=0.685) total time=   0.0s\n",
      "[CV 4/5] END max_iter=19, solver=liblinear; f1: (test=0.125) roc_auc: (test=0.673) total time=   0.0s\n",
      "[CV 5/5] END max_iter=19, solver=liblinear; f1: (test=0.101) roc_auc: (test=0.668) total time=   0.0s\n",
      "[CV 1/5] END max_iter=19, solver=sag; f1: (test=0.000) roc_auc: (test=0.530) total time=   0.0s\n",
      "[CV 2/5] END max_iter=19, solver=sag; f1: (test=0.000) roc_auc: (test=0.518) total time=   0.0s\n",
      "[CV 3/5] END max_iter=19, solver=sag; f1: (test=0.000) roc_auc: (test=0.519) total time=   0.0s\n",
      "[CV 4/5] END max_iter=19, solver=sag; f1: (test=0.016) roc_auc: (test=0.554) total time=   0.0s\n",
      "[CV 5/5] END max_iter=19, solver=sag; f1: (test=0.000) roc_auc: (test=0.514) total time=   0.0s\n",
      "[CV 1/5] END max_iter=19, solver=saga; f1: (test=0.000) roc_auc: (test=0.526) total time=   0.0s\n",
      "[CV 2/5] END max_iter=19, solver=saga; f1: (test=0.000) roc_auc: (test=0.513) total time=   0.0s\n",
      "[CV 3/5] END max_iter=19, solver=saga; f1: (test=0.000) roc_auc: (test=0.516) total time=   0.0s\n",
      "[CV 4/5] END max_iter=19, solver=saga; f1: (test=0.016) roc_auc: (test=0.552) total time=   0.0s\n",
      "[CV 5/5] END max_iter=19, solver=saga; f1: (test=0.000) roc_auc: (test=0.511) total time=   0.0s\n",
      "[CV 1/5] END max_iter=20, solver=newton-cg; f1: (test=0.084) roc_auc: (test=0.651) total time=   0.0s\n",
      "[CV 2/5] END max_iter=20, solver=newton-cg; f1: (test=0.094) roc_auc: (test=0.624) total time=   0.0s\n",
      "[CV 3/5] END max_iter=20, solver=newton-cg; f1: (test=0.143) roc_auc: (test=0.656) total time=   0.0s\n",
      "[CV 4/5] END max_iter=20, solver=newton-cg; f1: (test=0.114) roc_auc: (test=0.698) total time=   0.0s\n",
      "[CV 5/5] END max_iter=20, solver=newton-cg; f1: (test=0.101) roc_auc: (test=0.658) total time=   0.0s\n",
      "[CV 1/5] END max_iter=20, solver=lbfgs; f1: (test=0.016) roc_auc: (test=0.546) total time=   0.0s\n",
      "[CV 2/5] END max_iter=20, solver=lbfgs; f1: (test=0.095) roc_auc: (test=0.590) total time=   0.0s\n",
      "[CV 3/5] END max_iter=20, solver=lbfgs; f1: (test=0.083) roc_auc: (test=0.572) total time=   0.0s\n",
      "[CV 4/5] END max_iter=20, solver=lbfgs; f1: (test=0.016) roc_auc: (test=0.568) total time=   0.0s\n",
      "[CV 5/5] END max_iter=20, solver=lbfgs; f1: (test=0.000) roc_auc: (test=0.514) total time=   0.0s\n",
      "[CV 1/5] END max_iter=20, solver=liblinear; f1: (test=0.129) roc_auc: (test=0.640) total time=   0.0s\n",
      "[CV 2/5] END max_iter=20, solver=liblinear; f1: (test=0.087) roc_auc: (test=0.654) total time=   0.0s\n",
      "[CV 3/5] END max_iter=20, solver=liblinear; f1: (test=0.186) roc_auc: (test=0.692) total time=   0.0s\n",
      "[CV 4/5] END max_iter=20, solver=liblinear; f1: (test=0.125) roc_auc: (test=0.673) total time=   0.0s\n",
      "[CV 5/5] END max_iter=20, solver=liblinear; f1: (test=0.102) roc_auc: (test=0.666) total time=   0.0s\n",
      "[CV 1/5] END max_iter=20, solver=sag; f1: (test=0.000) roc_auc: (test=0.530) total time=   0.0s\n",
      "[CV 2/5] END max_iter=20, solver=sag; f1: (test=0.000) roc_auc: (test=0.518) total time=   0.0s\n",
      "[CV 3/5] END max_iter=20, solver=sag; f1: (test=0.000) roc_auc: (test=0.519) total time=   0.0s\n",
      "[CV 4/5] END max_iter=20, solver=sag; f1: (test=0.016) roc_auc: (test=0.555) total time=   0.0s\n",
      "[CV 5/5] END max_iter=20, solver=sag; f1: (test=0.000) roc_auc: (test=0.515) total time=   0.0s\n",
      "[CV 1/5] END max_iter=20, solver=saga; f1: (test=0.000) roc_auc: (test=0.526) total time=   0.0s\n",
      "[CV 2/5] END max_iter=20, solver=saga; f1: (test=0.000) roc_auc: (test=0.514) total time=   0.0s\n",
      "[CV 3/5] END max_iter=20, solver=saga; f1: (test=0.000) roc_auc: (test=0.516) total time=   0.0s\n",
      "[CV 4/5] END max_iter=20, solver=saga; f1: (test=0.016) roc_auc: (test=0.552) total time=   0.0s\n",
      "[CV 5/5] END max_iter=20, solver=saga; f1: (test=0.000) roc_auc: (test=0.511) total time=   0.0s\n",
      "[CV 1/5] END max_iter=21, solver=newton-cg; f1: (test=0.117) roc_auc: (test=0.656) total time=   0.0s\n",
      "[CV 2/5] END max_iter=21, solver=newton-cg; f1: (test=0.094) roc_auc: (test=0.624) total time=   0.0s\n",
      "[CV 3/5] END max_iter=21, solver=newton-cg; f1: (test=0.143) roc_auc: (test=0.655) total time=   0.0s\n",
      "[CV 4/5] END max_iter=21, solver=newton-cg; f1: (test=0.114) roc_auc: (test=0.698) total time=   0.0s\n",
      "[CV 5/5] END max_iter=21, solver=newton-cg; f1: (test=0.101) roc_auc: (test=0.658) total time=   0.0s\n",
      "[CV 1/5] END max_iter=21, solver=lbfgs; f1: (test=0.031) roc_auc: (test=0.571) total time=   0.0s\n",
      "[CV 2/5] END max_iter=21, solver=lbfgs; f1: (test=0.114) roc_auc: (test=0.594) total time=   0.0s\n",
      "[CV 3/5] END max_iter=21, solver=lbfgs; f1: (test=0.142) roc_auc: (test=0.590) total time=   0.0s\n",
      "[CV 4/5] END max_iter=21, solver=lbfgs; f1: (test=0.032) roc_auc: (test=0.583) total time=   0.0s\n",
      "[CV 5/5] END max_iter=21, solver=lbfgs; f1: (test=0.000) roc_auc: (test=0.522) total time=   0.0s\n",
      "[CV 1/5] END max_iter=21, solver=liblinear; f1: (test=0.089) roc_auc: (test=0.650) total time=   0.0s\n",
      "[CV 2/5] END max_iter=21, solver=liblinear; f1: (test=0.187) roc_auc: (test=0.705) total time=   0.0s\n",
      "[CV 3/5] END max_iter=21, solver=liblinear; f1: (test=0.186) roc_auc: (test=0.691) total time=   0.0s\n"
     ]
    },
    {
     "name": "stdout",
     "output_type": "stream",
     "text": [
      "[CV 4/5] END max_iter=21, solver=liblinear; f1: (test=0.160) roc_auc: (test=0.727) total time=   0.0s\n",
      "[CV 5/5] END max_iter=21, solver=liblinear; f1: (test=0.147) roc_auc: (test=0.682) total time=   0.0s\n",
      "[CV 1/5] END max_iter=21, solver=sag; f1: (test=0.000) roc_auc: (test=0.531) total time=   0.0s\n",
      "[CV 2/5] END max_iter=21, solver=sag; f1: (test=0.000) roc_auc: (test=0.518) total time=   0.0s\n",
      "[CV 3/5] END max_iter=21, solver=sag; f1: (test=0.000) roc_auc: (test=0.520) total time=   0.0s\n",
      "[CV 4/5] END max_iter=21, solver=sag; f1: (test=0.016) roc_auc: (test=0.555) total time=   0.0s\n",
      "[CV 5/5] END max_iter=21, solver=sag; f1: (test=0.000) roc_auc: (test=0.515) total time=   0.0s\n",
      "[CV 1/5] END max_iter=21, solver=saga; f1: (test=0.000) roc_auc: (test=0.526) total time=   0.0s\n",
      "[CV 2/5] END max_iter=21, solver=saga; f1: (test=0.000) roc_auc: (test=0.514) total time=   0.0s\n",
      "[CV 3/5] END max_iter=21, solver=saga; f1: (test=0.000) roc_auc: (test=0.516) total time=   0.0s\n",
      "[CV 4/5] END max_iter=21, solver=saga; f1: (test=0.016) roc_auc: (test=0.552) total time=   0.0s\n",
      "[CV 5/5] END max_iter=21, solver=saga; f1: (test=0.000) roc_auc: (test=0.511) total time=   0.0s\n",
      "[CV 1/5] END max_iter=22, solver=newton-cg; f1: (test=0.110) roc_auc: (test=0.656) total time=   0.0s\n",
      "[CV 2/5] END max_iter=22, solver=newton-cg; f1: (test=0.148) roc_auc: (test=0.689) total time=   0.0s\n",
      "[CV 3/5] END max_iter=22, solver=newton-cg; f1: (test=0.148) roc_auc: (test=0.683) total time=   0.0s\n",
      "[CV 4/5] END max_iter=22, solver=newton-cg; f1: (test=0.127) roc_auc: (test=0.716) total time=   0.0s\n",
      "[CV 5/5] END max_iter=22, solver=newton-cg; f1: (test=0.134) roc_auc: (test=0.692) total time=   0.0s\n",
      "[CV 1/5] END max_iter=22, solver=lbfgs; f1: (test=0.074) roc_auc: (test=0.597) total time=   0.0s\n",
      "[CV 2/5] END max_iter=22, solver=lbfgs; f1: (test=0.115) roc_auc: (test=0.593) total time=   0.0s\n",
      "[CV 3/5] END max_iter=22, solver=lbfgs; f1: (test=0.161) roc_auc: (test=0.595) total time=   0.0s\n",
      "[CV 4/5] END max_iter=22, solver=lbfgs; f1: (test=0.116) roc_auc: (test=0.607) total time=   0.0s\n",
      "[CV 5/5] END max_iter=22, solver=lbfgs; f1: (test=0.023) roc_auc: (test=0.536) total time=   0.0s\n",
      "[CV 1/5] END max_iter=22, solver=liblinear; f1: (test=0.089) roc_auc: (test=0.650) total time=   0.0s\n",
      "[CV 2/5] END max_iter=22, solver=liblinear; f1: (test=0.177) roc_auc: (test=0.703) total time=   0.0s\n",
      "[CV 3/5] END max_iter=22, solver=liblinear; f1: (test=0.249) roc_auc: (test=0.714) total time=   0.0s\n",
      "[CV 4/5] END max_iter=22, solver=liblinear; f1: (test=0.154) roc_auc: (test=0.726) total time=   0.0s\n",
      "[CV 5/5] END max_iter=22, solver=liblinear; f1: (test=0.147) roc_auc: (test=0.681) total time=   0.0s\n",
      "[CV 1/5] END max_iter=22, solver=sag; f1: (test=0.000) roc_auc: (test=0.531) total time=   0.0s\n",
      "[CV 2/5] END max_iter=22, solver=sag; f1: (test=0.000) roc_auc: (test=0.519) total time=   0.0s\n",
      "[CV 3/5] END max_iter=22, solver=sag; f1: (test=0.000) roc_auc: (test=0.521) total time=   0.0s\n",
      "[CV 4/5] END max_iter=22, solver=sag; f1: (test=0.016) roc_auc: (test=0.555) total time=   0.0s\n",
      "[CV 5/5] END max_iter=22, solver=sag; f1: (test=0.000) roc_auc: (test=0.516) total time=   0.0s\n",
      "[CV 1/5] END max_iter=22, solver=saga; f1: (test=0.000) roc_auc: (test=0.526) total time=   0.0s\n",
      "[CV 2/5] END max_iter=22, solver=saga; f1: (test=0.000) roc_auc: (test=0.514) total time=   0.0s\n",
      "[CV 3/5] END max_iter=22, solver=saga; f1: (test=0.000) roc_auc: (test=0.516) total time=   0.0s\n",
      "[CV 4/5] END max_iter=22, solver=saga; f1: (test=0.016) roc_auc: (test=0.552) total time=   0.0s\n",
      "[CV 5/5] END max_iter=22, solver=saga; f1: (test=0.000) roc_auc: (test=0.511) total time=   0.0s\n",
      "[CV 1/5] END max_iter=23, solver=newton-cg; f1: (test=0.137) roc_auc: (test=0.682) total time=   0.0s\n",
      "[CV 2/5] END max_iter=23, solver=newton-cg; f1: (test=0.149) roc_auc: (test=0.688) total time=   0.0s\n",
      "[CV 3/5] END max_iter=23, solver=newton-cg; f1: (test=0.148) roc_auc: (test=0.683) total time=   0.0s\n",
      "[CV 4/5] END max_iter=23, solver=newton-cg; f1: (test=0.127) roc_auc: (test=0.716) total time=   0.0s\n",
      "[CV 5/5] END max_iter=23, solver=newton-cg; f1: (test=0.128) roc_auc: (test=0.691) total time=   0.0s\n",
      "[CV 1/5] END max_iter=23, solver=lbfgs; f1: (test=0.081) roc_auc: (test=0.598) total time=   0.0s\n",
      "[CV 2/5] END max_iter=23, solver=lbfgs; f1: (test=0.114) roc_auc: (test=0.593) total time=   0.0s\n",
      "[CV 3/5] END max_iter=23, solver=lbfgs; f1: (test=0.137) roc_auc: (test=0.594) total time=   0.0s\n",
      "[CV 4/5] END max_iter=23, solver=lbfgs; f1: (test=0.101) roc_auc: (test=0.610) total time=   0.0s\n",
      "[CV 5/5] END max_iter=23, solver=lbfgs; f1: (test=0.044) roc_auc: (test=0.557) total time=   0.0s\n",
      "[CV 1/5] END max_iter=23, solver=liblinear; f1: (test=0.145) roc_auc: (test=0.686) total time=   0.0s\n",
      "[CV 2/5] END max_iter=23, solver=liblinear; f1: (test=0.177) roc_auc: (test=0.702) total time=   0.0s\n",
      "[CV 3/5] END max_iter=23, solver=liblinear; f1: (test=0.233) roc_auc: (test=0.716) total time=   0.0s\n",
      "[CV 4/5] END max_iter=23, solver=liblinear; f1: (test=0.320) roc_auc: (test=0.761) total time=   0.0s\n",
      "[CV 5/5] END max_iter=23, solver=liblinear; f1: (test=0.153) roc_auc: (test=0.712) total time=   0.0s\n",
      "[CV 1/5] END max_iter=23, solver=sag; f1: (test=0.000) roc_auc: (test=0.532) total time=   0.0s\n",
      "[CV 2/5] END max_iter=23, solver=sag; f1: (test=0.000) roc_auc: (test=0.519) total time=   0.0s\n",
      "[CV 3/5] END max_iter=23, solver=sag; f1: (test=0.000) roc_auc: (test=0.521) total time=   0.0s\n",
      "[CV 4/5] END max_iter=23, solver=sag; f1: (test=0.016) roc_auc: (test=0.556) total time=   0.0s\n",
      "[CV 5/5] END max_iter=23, solver=sag; f1: (test=0.000) roc_auc: (test=0.516) total time=   0.0s\n",
      "[CV 1/5] END max_iter=23, solver=saga; f1: (test=0.000) roc_auc: (test=0.526) total time=   0.0s\n",
      "[CV 2/5] END max_iter=23, solver=saga; f1: (test=0.000) roc_auc: (test=0.514) total time=   0.0s\n",
      "[CV 3/5] END max_iter=23, solver=saga; f1: (test=0.000) roc_auc: (test=0.516) total time=   0.0s\n",
      "[CV 4/5] END max_iter=23, solver=saga; f1: (test=0.016) roc_auc: (test=0.552) total time=   0.0s\n",
      "[CV 5/5] END max_iter=23, solver=saga; f1: (test=0.000) roc_auc: (test=0.512) total time=   0.0s\n",
      "[CV 1/5] END max_iter=24, solver=newton-cg; f1: (test=0.137) roc_auc: (test=0.682) total time=   0.0s\n",
      "[CV 2/5] END max_iter=24, solver=newton-cg; f1: (test=0.142) roc_auc: (test=0.688) total time=   0.0s\n",
      "[CV 3/5] END max_iter=24, solver=newton-cg; f1: (test=0.147) roc_auc: (test=0.684) total time=   0.0s\n",
      "[CV 4/5] END max_iter=24, solver=newton-cg; f1: (test=0.172) roc_auc: (test=0.734) total time=   0.0s\n",
      "[CV 5/5] END max_iter=24, solver=newton-cg; f1: (test=0.135) roc_auc: (test=0.693) total time=   0.0s\n",
      "[CV 1/5] END max_iter=24, solver=lbfgs; f1: (test=0.098) roc_auc: (test=0.608) total time=   0.0s\n",
      "[CV 2/5] END max_iter=24, solver=lbfgs; f1: (test=0.114) roc_auc: (test=0.592) total time=   0.0s\n",
      "[CV 3/5] END max_iter=24, solver=lbfgs; f1: (test=0.133) roc_auc: (test=0.592) total time=   0.0s\n",
      "[CV 4/5] END max_iter=24, solver=lbfgs; f1: (test=0.105) roc_auc: (test=0.613) total time=   0.0s\n",
      "[CV 5/5] END max_iter=24, solver=lbfgs; f1: (test=0.064) roc_auc: (test=0.578) total time=   0.0s\n",
      "[CV 1/5] END max_iter=24, solver=liblinear; f1: (test=0.145) roc_auc: (test=0.685) total time=   0.0s\n",
      "[CV 2/5] END max_iter=24, solver=liblinear; f1: (test=0.288) roc_auc: (test=0.718) total time=   0.0s\n",
      "[CV 3/5] END max_iter=24, solver=liblinear; f1: (test=0.270) roc_auc: (test=0.715) total time=   0.0s\n",
      "[CV 4/5] END max_iter=24, solver=liblinear; f1: (test=0.291) roc_auc: (test=0.761) total time=   0.0s\n",
      "[CV 5/5] END max_iter=24, solver=liblinear; f1: (test=0.145) roc_auc: (test=0.708) total time=   0.0s\n",
      "[CV 1/5] END max_iter=24, solver=sag; f1: (test=0.000) roc_auc: (test=0.532) total time=   0.0s\n",
      "[CV 2/5] END max_iter=24, solver=sag; f1: (test=0.000) roc_auc: (test=0.519) total time=   0.0s\n",
      "[CV 3/5] END max_iter=24, solver=sag; f1: (test=0.000) roc_auc: (test=0.521) total time=   0.0s\n",
      "[CV 4/5] END max_iter=24, solver=sag; f1: (test=0.016) roc_auc: (test=0.556) total time=   0.0s\n",
      "[CV 5/5] END max_iter=24, solver=sag; f1: (test=0.000) roc_auc: (test=0.516) total time=   0.0s\n",
      "[CV 1/5] END max_iter=24, solver=saga; f1: (test=0.000) roc_auc: (test=0.527) total time=   0.0s\n",
      "[CV 2/5] END max_iter=24, solver=saga; f1: (test=0.000) roc_auc: (test=0.515) total time=   0.0s\n",
      "[CV 3/5] END max_iter=24, solver=saga; f1: (test=0.000) roc_auc: (test=0.517) total time=   0.0s\n",
      "[CV 4/5] END max_iter=24, solver=saga; f1: (test=0.016) roc_auc: (test=0.552) total time=   0.0s\n",
      "[CV 5/5] END max_iter=24, solver=saga; f1: (test=0.000) roc_auc: (test=0.512) total time=   0.0s\n"
     ]
    },
    {
     "name": "stdout",
     "output_type": "stream",
     "text": [
      "[CV 1/5] END max_iter=25, solver=newton-cg; f1: (test=0.189) roc_auc: (test=0.701) total time=   0.0s\n",
      "[CV 2/5] END max_iter=25, solver=newton-cg; f1: (test=0.149) roc_auc: (test=0.701) total time=   0.0s\n",
      "[CV 3/5] END max_iter=25, solver=newton-cg; f1: (test=0.148) roc_auc: (test=0.685) total time=   0.0s\n",
      "[CV 4/5] END max_iter=25, solver=newton-cg; f1: (test=0.172) roc_auc: (test=0.734) total time=   0.0s\n",
      "[CV 5/5] END max_iter=25, solver=newton-cg; f1: (test=0.134) roc_auc: (test=0.695) total time=   0.0s\n",
      "[CV 1/5] END max_iter=25, solver=lbfgs; f1: (test=0.099) roc_auc: (test=0.607) total time=   0.0s\n",
      "[CV 2/5] END max_iter=25, solver=lbfgs; f1: (test=0.114) roc_auc: (test=0.592) total time=   0.0s\n",
      "[CV 3/5] END max_iter=25, solver=lbfgs; f1: (test=0.133) roc_auc: (test=0.591) total time=   0.0s\n",
      "[CV 4/5] END max_iter=25, solver=lbfgs; f1: (test=0.124) roc_auc: (test=0.617) total time=   0.0s\n",
      "[CV 5/5] END max_iter=25, solver=lbfgs; f1: (test=0.107) roc_auc: (test=0.580) total time=   0.0s\n",
      "[CV 1/5] END max_iter=25, solver=liblinear; f1: (test=0.263) roc_auc: (test=0.716) total time=   0.0s\n",
      "[CV 2/5] END max_iter=25, solver=liblinear; f1: (test=0.276) roc_auc: (test=0.718) total time=   0.0s\n",
      "[CV 3/5] END max_iter=25, solver=liblinear; f1: (test=0.270) roc_auc: (test=0.715) total time=   0.0s\n",
      "[CV 4/5] END max_iter=25, solver=liblinear; f1: (test=0.297) roc_auc: (test=0.761) total time=   0.0s\n",
      "[CV 5/5] END max_iter=25, solver=liblinear; f1: (test=0.144) roc_auc: (test=0.708) total time=   0.0s\n",
      "[CV 1/5] END max_iter=25, solver=sag; f1: (test=0.000) roc_auc: (test=0.532) total time=   0.0s\n",
      "[CV 2/5] END max_iter=25, solver=sag; f1: (test=0.000) roc_auc: (test=0.520) total time=   0.0s\n",
      "[CV 3/5] END max_iter=25, solver=sag; f1: (test=0.000) roc_auc: (test=0.522) total time=   0.0s\n",
      "[CV 4/5] END max_iter=25, solver=sag; f1: (test=0.016) roc_auc: (test=0.556) total time=   0.0s\n",
      "[CV 5/5] END max_iter=25, solver=sag; f1: (test=0.000) roc_auc: (test=0.517) total time=   0.0s\n",
      "[CV 1/5] END max_iter=25, solver=saga; f1: (test=0.000) roc_auc: (test=0.527) total time=   0.0s\n",
      "[CV 2/5] END max_iter=25, solver=saga; f1: (test=0.000) roc_auc: (test=0.515) total time=   0.0s\n",
      "[CV 3/5] END max_iter=25, solver=saga; f1: (test=0.000) roc_auc: (test=0.517) total time=   0.0s\n",
      "[CV 4/5] END max_iter=25, solver=saga; f1: (test=0.016) roc_auc: (test=0.553) total time=   0.0s\n",
      "[CV 5/5] END max_iter=25, solver=saga; f1: (test=0.000) roc_auc: (test=0.512) total time=   0.0s\n",
      "[CV 1/5] END max_iter=26, solver=newton-cg; f1: (test=0.182) roc_auc: (test=0.700) total time=   0.0s\n",
      "[CV 2/5] END max_iter=26, solver=newton-cg; f1: (test=0.149) roc_auc: (test=0.701) total time=   0.0s\n",
      "[CV 3/5] END max_iter=26, solver=newton-cg; f1: (test=0.148) roc_auc: (test=0.685) total time=   0.0s\n",
      "[CV 4/5] END max_iter=26, solver=newton-cg; f1: (test=0.172) roc_auc: (test=0.734) total time=   0.0s\n",
      "[CV 5/5] END max_iter=26, solver=newton-cg; f1: (test=0.134) roc_auc: (test=0.695) total time=   0.0s\n",
      "[CV 1/5] END max_iter=26, solver=lbfgs; f1: (test=0.100) roc_auc: (test=0.605) total time=   0.0s\n",
      "[CV 2/5] END max_iter=26, solver=lbfgs; f1: (test=0.114) roc_auc: (test=0.592) total time=   0.0s\n",
      "[CV 3/5] END max_iter=26, solver=lbfgs; f1: (test=0.133) roc_auc: (test=0.591) total time=   0.0s\n",
      "[CV 4/5] END max_iter=26, solver=lbfgs; f1: (test=0.130) roc_auc: (test=0.617) total time=   0.0s\n",
      "[CV 5/5] END max_iter=26, solver=lbfgs; f1: (test=0.104) roc_auc: (test=0.585) total time=   0.0s\n",
      "[CV 1/5] END max_iter=26, solver=liblinear; f1: (test=0.265) roc_auc: (test=0.716) total time=   0.0s\n",
      "[CV 2/5] END max_iter=26, solver=liblinear; f1: (test=0.275) roc_auc: (test=0.718) total time=   0.0s\n",
      "[CV 3/5] END max_iter=26, solver=liblinear; f1: (test=0.340) roc_auc: (test=0.725) total time=   0.0s\n",
      "[CV 4/5] END max_iter=26, solver=liblinear; f1: (test=0.287) roc_auc: (test=0.778) total time=   0.0s\n",
      "[CV 5/5] END max_iter=26, solver=liblinear; f1: (test=0.248) roc_auc: (test=0.722) total time=   0.0s\n",
      "[CV 1/5] END max_iter=26, solver=sag; f1: (test=0.000) roc_auc: (test=0.533) total time=   0.0s\n",
      "[CV 2/5] END max_iter=26, solver=sag; f1: (test=0.000) roc_auc: (test=0.520) total time=   0.0s\n",
      "[CV 3/5] END max_iter=26, solver=sag; f1: (test=0.000) roc_auc: (test=0.522) total time=   0.0s\n",
      "[CV 4/5] END max_iter=26, solver=sag; f1: (test=0.016) roc_auc: (test=0.557) total time=   0.0s\n",
      "[CV 5/5] END max_iter=26, solver=sag; f1: (test=0.000) roc_auc: (test=0.517) total time=   0.0s\n",
      "[CV 1/5] END max_iter=26, solver=saga; f1: (test=0.000) roc_auc: (test=0.527) total time=   0.0s\n",
      "[CV 2/5] END max_iter=26, solver=saga; f1: (test=0.000) roc_auc: (test=0.515) total time=   0.0s\n",
      "[CV 3/5] END max_iter=26, solver=saga; f1: (test=0.000) roc_auc: (test=0.517) total time=   0.0s\n",
      "[CV 4/5] END max_iter=26, solver=saga; f1: (test=0.016) roc_auc: (test=0.553) total time=   0.0s\n",
      "[CV 5/5] END max_iter=26, solver=saga; f1: (test=0.000) roc_auc: (test=0.512) total time=   0.0s\n",
      "[CV 1/5] END max_iter=27, solver=newton-cg; f1: (test=0.182) roc_auc: (test=0.700) total time=   0.0s\n",
      "[CV 2/5] END max_iter=27, solver=newton-cg; f1: (test=0.179) roc_auc: (test=0.714) total time=   0.0s\n",
      "[CV 3/5] END max_iter=27, solver=newton-cg; f1: (test=0.174) roc_auc: (test=0.693) total time=   0.0s\n",
      "[CV 4/5] END max_iter=27, solver=newton-cg; f1: (test=0.172) roc_auc: (test=0.734) total time=   0.0s\n",
      "[CV 5/5] END max_iter=27, solver=newton-cg; f1: (test=0.139) roc_auc: (test=0.704) total time=   0.0s\n",
      "[CV 1/5] END max_iter=27, solver=lbfgs; f1: (test=0.100) roc_auc: (test=0.605) total time=   0.0s\n",
      "[CV 2/5] END max_iter=27, solver=lbfgs; f1: (test=0.114) roc_auc: (test=0.592) total time=   0.0s\n",
      "[CV 3/5] END max_iter=27, solver=lbfgs; f1: (test=0.133) roc_auc: (test=0.591) total time=   0.0s\n",
      "[CV 4/5] END max_iter=27, solver=lbfgs; f1: (test=0.130) roc_auc: (test=0.617) total time=   0.0s\n",
      "[CV 5/5] END max_iter=27, solver=lbfgs; f1: (test=0.085) roc_auc: (test=0.586) total time=   0.0s\n",
      "[CV 1/5] END max_iter=27, solver=liblinear; f1: (test=0.265) roc_auc: (test=0.716) total time=   0.0s\n",
      "[CV 2/5] END max_iter=27, solver=liblinear; f1: (test=0.264) roc_auc: (test=0.732) total time=   0.0s\n",
      "[CV 3/5] END max_iter=27, solver=liblinear; f1: (test=0.336) roc_auc: (test=0.725) total time=   0.0s\n",
      "[CV 4/5] END max_iter=27, solver=liblinear; f1: (test=0.268) roc_auc: (test=0.778) total time=   0.0s\n",
      "[CV 5/5] END max_iter=27, solver=liblinear; f1: (test=0.248) roc_auc: (test=0.722) total time=   0.0s\n",
      "[CV 1/5] END max_iter=27, solver=sag; f1: (test=0.000) roc_auc: (test=0.533) total time=   0.0s\n",
      "[CV 2/5] END max_iter=27, solver=sag; f1: (test=0.000) roc_auc: (test=0.520) total time=   0.0s\n",
      "[CV 3/5] END max_iter=27, solver=sag; f1: (test=0.000) roc_auc: (test=0.522) total time=   0.0s\n",
      "[CV 4/5] END max_iter=27, solver=sag; f1: (test=0.016) roc_auc: (test=0.557) total time=   0.0s\n",
      "[CV 5/5] END max_iter=27, solver=sag; f1: (test=0.000) roc_auc: (test=0.517) total time=   0.0s\n",
      "[CV 1/5] END max_iter=27, solver=saga; f1: (test=0.000) roc_auc: (test=0.527) total time=   0.0s\n",
      "[CV 2/5] END max_iter=27, solver=saga; f1: (test=0.000) roc_auc: (test=0.515) total time=   0.0s\n",
      "[CV 3/5] END max_iter=27, solver=saga; f1: (test=0.000) roc_auc: (test=0.517) total time=   0.0s\n",
      "[CV 4/5] END max_iter=27, solver=saga; f1: (test=0.016) roc_auc: (test=0.553) total time=   0.0s\n",
      "[CV 5/5] END max_iter=27, solver=saga; f1: (test=0.000) roc_auc: (test=0.512) total time=   0.0s\n",
      "[CV 1/5] END max_iter=28, solver=newton-cg; f1: (test=0.207) roc_auc: (test=0.708) total time=   0.0s\n",
      "[CV 2/5] END max_iter=28, solver=newton-cg; f1: (test=0.180) roc_auc: (test=0.714) total time=   0.0s\n",
      "[CV 3/5] END max_iter=28, solver=newton-cg; f1: (test=0.174) roc_auc: (test=0.693) total time=   0.0s\n",
      "[CV 4/5] END max_iter=28, solver=newton-cg; f1: (test=0.190) roc_auc: (test=0.746) total time=   0.1s\n",
      "[CV 5/5] END max_iter=28, solver=newton-cg; f1: (test=0.139) roc_auc: (test=0.704) total time=   0.0s\n",
      "[CV 1/5] END max_iter=28, solver=lbfgs; f1: (test=0.100) roc_auc: (test=0.605) total time=   0.0s\n",
      "[CV 2/5] END max_iter=28, solver=lbfgs; f1: (test=0.115) roc_auc: (test=0.592) total time=   0.0s\n",
      "[CV 3/5] END max_iter=28, solver=lbfgs; f1: (test=0.133) roc_auc: (test=0.591) total time=   0.0s\n",
      "[CV 4/5] END max_iter=28, solver=lbfgs; f1: (test=0.130) roc_auc: (test=0.617) total time=   0.0s\n"
     ]
    },
    {
     "name": "stdout",
     "output_type": "stream",
     "text": [
      "[CV 5/5] END max_iter=28, solver=lbfgs; f1: (test=0.079) roc_auc: (test=0.585) total time=   0.0s\n",
      "[CV 1/5] END max_iter=28, solver=liblinear; f1: (test=0.336) roc_auc: (test=0.720) total time=   0.0s\n",
      "[CV 2/5] END max_iter=28, solver=liblinear; f1: (test=0.264) roc_auc: (test=0.732) total time=   0.0s\n",
      "[CV 3/5] END max_iter=28, solver=liblinear; f1: (test=0.330) roc_auc: (test=0.725) total time=   0.0s\n",
      "[CV 4/5] END max_iter=28, solver=liblinear; f1: (test=0.279) roc_auc: (test=0.778) total time=   0.0s\n",
      "[CV 5/5] END max_iter=28, solver=liblinear; f1: (test=0.243) roc_auc: (test=0.722) total time=   0.0s\n",
      "[CV 1/5] END max_iter=28, solver=sag; f1: (test=0.000) roc_auc: (test=0.533) total time=   0.0s\n",
      "[CV 2/5] END max_iter=28, solver=sag; f1: (test=0.000) roc_auc: (test=0.521) total time=   0.0s\n",
      "[CV 3/5] END max_iter=28, solver=sag; f1: (test=0.000) roc_auc: (test=0.523) total time=   0.0s\n",
      "[CV 4/5] END max_iter=28, solver=sag; f1: (test=0.016) roc_auc: (test=0.557) total time=   0.0s\n",
      "[CV 5/5] END max_iter=28, solver=sag; f1: (test=0.000) roc_auc: (test=0.518) total time=   0.0s\n",
      "[CV 1/5] END max_iter=28, solver=saga; f1: (test=0.000) roc_auc: (test=0.528) total time=   0.0s\n",
      "[CV 2/5] END max_iter=28, solver=saga; f1: (test=0.000) roc_auc: (test=0.515) total time=   0.0s\n",
      "[CV 3/5] END max_iter=28, solver=saga; f1: (test=0.000) roc_auc: (test=0.517) total time=   0.0s\n",
      "[CV 4/5] END max_iter=28, solver=saga; f1: (test=0.016) roc_auc: (test=0.553) total time=   0.0s\n",
      "[CV 5/5] END max_iter=28, solver=saga; f1: (test=0.000) roc_auc: (test=0.513) total time=   0.0s\n",
      "[CV 1/5] END max_iter=29, solver=newton-cg; f1: (test=0.207) roc_auc: (test=0.708) total time=   0.1s\n",
      "[CV 2/5] END max_iter=29, solver=newton-cg; f1: (test=0.225) roc_auc: (test=0.718) total time=   0.1s\n",
      "[CV 3/5] END max_iter=29, solver=newton-cg; f1: (test=0.198) roc_auc: (test=0.702) total time=   0.1s\n",
      "[CV 4/5] END max_iter=29, solver=newton-cg; f1: (test=0.190) roc_auc: (test=0.746) total time=   0.1s\n",
      "[CV 5/5] END max_iter=29, solver=newton-cg; f1: (test=0.157) roc_auc: (test=0.713) total time=   0.1s\n",
      "[CV 1/5] END max_iter=29, solver=lbfgs; f1: (test=0.100) roc_auc: (test=0.605) total time=   0.0s\n",
      "[CV 2/5] END max_iter=29, solver=lbfgs; f1: (test=0.115) roc_auc: (test=0.592) total time=   0.0s\n",
      "[CV 3/5] END max_iter=29, solver=lbfgs; f1: (test=0.120) roc_auc: (test=0.591) total time=   0.0s\n",
      "[CV 4/5] END max_iter=29, solver=lbfgs; f1: (test=0.130) roc_auc: (test=0.617) total time=   0.0s\n",
      "[CV 5/5] END max_iter=29, solver=lbfgs; f1: (test=0.079) roc_auc: (test=0.584) total time=   0.0s\n",
      "[CV 1/5] END max_iter=29, solver=liblinear; f1: (test=0.337) roc_auc: (test=0.720) total time=   0.0s\n",
      "[CV 2/5] END max_iter=29, solver=liblinear; f1: (test=0.264) roc_auc: (test=0.732) total time=   0.0s\n",
      "[CV 3/5] END max_iter=29, solver=liblinear; f1: (test=0.330) roc_auc: (test=0.725) total time=   0.0s\n",
      "[CV 4/5] END max_iter=29, solver=liblinear; f1: (test=0.279) roc_auc: (test=0.778) total time=   0.0s\n",
      "[CV 5/5] END max_iter=29, solver=liblinear; f1: (test=0.243) roc_auc: (test=0.722) total time=   0.0s\n",
      "[CV 1/5] END max_iter=29, solver=sag; f1: (test=0.000) roc_auc: (test=0.534) total time=   0.0s\n",
      "[CV 2/5] END max_iter=29, solver=sag; f1: (test=0.000) roc_auc: (test=0.521) total time=   0.0s\n",
      "[CV 3/5] END max_iter=29, solver=sag; f1: (test=0.000) roc_auc: (test=0.523) total time=   0.0s\n",
      "[CV 4/5] END max_iter=29, solver=sag; f1: (test=0.016) roc_auc: (test=0.558) total time=   0.0s\n",
      "[CV 5/5] END max_iter=29, solver=sag; f1: (test=0.000) roc_auc: (test=0.518) total time=   0.0s\n",
      "[CV 1/5] END max_iter=29, solver=saga; f1: (test=0.000) roc_auc: (test=0.528) total time=   0.0s\n",
      "[CV 2/5] END max_iter=29, solver=saga; f1: (test=0.000) roc_auc: (test=0.516) total time=   0.0s\n",
      "[CV 3/5] END max_iter=29, solver=saga; f1: (test=0.000) roc_auc: (test=0.517) total time=   0.0s\n",
      "[CV 4/5] END max_iter=29, solver=saga; f1: (test=0.016) roc_auc: (test=0.553) total time=   0.0s\n",
      "[CV 5/5] END max_iter=29, solver=saga; f1: (test=0.000) roc_auc: (test=0.513) total time=   0.0s\n",
      "Wall time: 31.8 s\n"
     ]
    },
    {
     "data": {
      "text/plain": [
       "GridSearchCV(cv=5, estimator=LogisticRegression(random_state=12345),\n",
       "             param_grid={'max_iter': [1, 2, 3, 4, 5, 6, 7, 8, 9, 10, 11, 12, 13,\n",
       "                                      14, 15, 16, 17, 18, 19, 20, 21, 22, 23,\n",
       "                                      24, 25, 26, 27, 28, 29],\n",
       "                         'solver': ['newton-cg', 'lbfgs', 'liblinear', 'sag',\n",
       "                                    'saga']},\n",
       "             refit='f1', scoring=['f1', 'roc_auc'], verbose=4)"
      ]
     },
     "execution_count": 26,
     "metadata": {},
     "output_type": "execute_result"
    }
   ],
   "source": [
    "%%time \n",
    "\n",
    "# 32 sec\n",
    "\n",
    "model_lgs = LogisticRegression(random_state=12345)\n",
    "iters=[]\n",
    "for i in range(1, 30):\n",
    "    iters.append(i)\n",
    "search_space = {\n",
    "    \"solver\" : ['newton-cg', 'lbfgs', 'liblinear', 'sag', 'saga'],\n",
    "    \"max_iter\" : iters    \n",
    "}\n",
    "\n",
    "GS = GridSearchCV(estimator = model_lgs,\n",
    "                  param_grid = search_space,\n",
    "                  scoring = ['f1', 'roc_auc'],\n",
    "                  cv = 5,\n",
    "                  verbose = 4,\n",
    "                  refit = 'f1')\n",
    "\n",
    "GS.fit(features_train, target_train)\n",
    "\n"
   ]
  },
  {
   "cell_type": "code",
   "execution_count": 27,
   "id": "8157a24a",
   "metadata": {},
   "outputs": [
    {
     "name": "stdout",
     "output_type": "stream",
     "text": [
      "LogisticRegression(max_iter=29, random_state=12345, solver='liblinear')\n",
      "0.29079564259211715\n"
     ]
    }
   ],
   "source": [
    "print(GS.best_estimator_)\n",
    "print(GS.best_score_)\n",
    "probabilities_valid = GS.predict_proba(features_valid)\n",
    "probabilities_one_valid = probabilities_valid[:, 1]"
   ]
  },
  {
   "cell_type": "code",
   "execution_count": 28,
   "id": "796835f2",
   "metadata": {},
   "outputs": [
    {
     "data": {
      "image/png": "[encoded data removed]",
      "text/plain": [
       "<Figure size 432x288 with 1 Axes>"
      ]
     },
     "metadata": {
      "needs_background": "light"
     },
     "output_type": "display_data"
    }
   ],
   "source": [
    "fpr, tpr, thresholds = roc_curve(target_valid, probabilities_one_valid)\n",
    "\n",
    "\n",
    "plt.figure()\n",
    "plt.plot(fpr, tpr, color='g')\n",
    "plt.xlim([0.0, 1.0])\n",
    "plt.ylim([0.0, 1.0])\n",
    "plt.xlabel('False Positive Rate')\n",
    "plt.ylabel('True Positive Rate')\n",
    "plt.title('ROC-кривая')\n",
    "plt.show() "
   ]
  },
  {
   "cell_type": "markdown",
   "id": "55be0cca",
   "metadata": {},
   "source": [
    "Лучший показатель f1 оказался 0.29 при количетсве итераций 29 и алгоритме liblinear. Auc_roc: 0.75"
   ]
  },
  {
   "cell_type": "markdown",
   "id": "86c1dc9b",
   "metadata": {},
   "source": [
    "## Upsampling  и масштабирование признаков"
   ]
  },
  {
   "cell_type": "markdown",
   "id": "a2fecf0e",
   "metadata": {},
   "source": [
    "Проведем увеличение выборки, увеличим целевой признак равный 1 (Факт ухода клиента)"
   ]
  },
  {
   "cell_type": "code",
   "execution_count": 29,
   "id": "c0cbed81",
   "metadata": {},
   "outputs": [],
   "source": [
    "features_zeros = features_train[target_train == 0]\n",
    "features_ones = features_train[target_train == 1]\n",
    "target_zeros = target_train[target_train == 0]\n",
    "target_ones = target_train[target_train == 1]\n",
    "\n",
    "\n",
    "features_train = pd.concat([features_zeros] + [features_ones] * 3)\n",
    "target_train = pd.concat([target_zeros] + [target_ones] * 3)"
   ]
  },
  {
   "cell_type": "markdown",
   "id": "97cd5350",
   "metadata": {},
   "source": [
    "Произведем масштабирование признаков"
   ]
  },
  {
   "cell_type": "code",
   "execution_count": 30,
   "id": "7036048a",
   "metadata": {},
   "outputs": [],
   "source": [
    "scaler = StandardScaler()\n",
    "scaler.fit(features_train)\n",
    "features_train = scaler.transform(features_train)\n",
    "features_valid = scaler.transform(features_valid)\n",
    "features_test = scaler.transform(features_test)"
   ]
  },
  {
   "cell_type": "markdown",
   "id": "30a1ce58",
   "metadata": {},
   "source": [
    "## Проверка моделей без дисбаланса классов "
   ]
  },
  {
   "cell_type": "markdown",
   "id": "ef7dc3c1",
   "metadata": {},
   "source": [
    "Построим модель случайного леса (подберем лучшие параметры) и посмотрим на показатель f1-меры и auc_roc."
   ]
  },
  {
   "cell_type": "code",
   "execution_count": 31,
   "id": "ceb564df",
   "metadata": {},
   "outputs": [
    {
     "name": "stdout",
     "output_type": "stream",
     "text": [
      "Лучшая_f1: 0.6166868198307133, лучшее кол-во деревьев: 91, лучшая глубина: 7\n",
      "0.6166868198307133 91 7\n",
      "Лучший auc_roc: 0.8554856859941606\n",
      "Wall time: 1min 37s\n"
     ]
    }
   ],
   "source": [
    "%%time\n",
    "\n",
    "best_scores = 0\n",
    "best_depth = 0\n",
    "best_n = 0\n",
    "a_r_s = 0\n",
    "probabilities_best_valid = 0\n",
    "for n in range(1, 101, 10):\n",
    "    for depth in range(1, 20):   \n",
    "        model = RandomForestClassifier(n_estimators=n, max_depth=depth, random_state=12345)\n",
    "        model.fit(features_train, target_train)\n",
    "        pred = model.predict(features_valid)\n",
    "        scores = f1_score(target_valid, pred)\n",
    "        probabilities_valid = model.predict_proba(features_valid)\n",
    "        probabilities_one_valid = probabilities_valid[:, 1]\n",
    "        auc_roc_sc = roc_auc_score(target_valid, probabilities_one_valid)\n",
    "        if best_scores < scores:\n",
    "            best_scores = scores\n",
    "            best_n = n\n",
    "            best_depth = depth\n",
    "            a_r_s = auc_roc_sc\n",
    "            probabilities_best_valid = probabilities_one_valid\n",
    "print(f\"Лучшая_f1: {best_scores}, лучшее кол-во деревьев: {best_n}, лучшая глубина: {best_depth}\")\n",
    "print(best_scores, best_n, best_depth)\n",
    "print(f\"Лучший auc_roc: {a_r_s}\")"
   ]
  },
  {
   "cell_type": "code",
   "execution_count": 32,
   "id": "b403fc87",
   "metadata": {},
   "outputs": [
    {
     "data": {
      "image/png": "[encoded data removed]",
      "text/plain": [
       "<Figure size 432x288 with 1 Axes>"
      ]
     },
     "metadata": {
      "needs_background": "light"
     },
     "output_type": "display_data"
    }
   ],
   "source": [
    "fpr, tpr, thresholds = roc_curve(target_valid, probabilities_best_valid)\n",
    "\n",
    "\n",
    "plt.figure()\n",
    "plt.plot(fpr, tpr, color='g')\n",
    "plt.xlim([0.0, 1.0])\n",
    "plt.ylim([0.0, 1.0])\n",
    "plt.xlabel('False Positive Rate')\n",
    "plt.ylabel('True Positive Rate')\n",
    "plt.title('ROC-кривая')\n",
    "plt.show() "
   ]
  },
  {
   "cell_type": "markdown",
   "id": "9abf4142",
   "metadata": {},
   "source": [
    "Лучшая f1-мера: 0.62 при 91-ом дереве с глубиной 7. Лучший Auc_roc: 0.86. Результат значительно выше, чем у моделей с дисбалансом классов без масштабирования, ROC-кривые также это подтверждают."
   ]
  },
  {
   "cell_type": "markdown",
   "id": "d0e0285d",
   "metadata": {},
   "source": [
    "Лучшая f1-мера: 0.624 при 10-ти иттерациях и алгоритме sag. Лучший Auc_roc: 0.75. Результат значительно выше, чем у моделей с дисбалансом классов без масштабирования (в два раза вышк, чем у предыдущей модели логистической регрессии), ROC-кривые также это подтверждают."
   ]
  },
  {
   "cell_type": "markdown",
   "id": "00ac98de",
   "metadata": {},
   "source": [
    "## Тестирование лучшей модели "
   ]
  },
  {
   "cell_type": "markdown",
   "id": "958d5620",
   "metadata": {},
   "source": [
    "Лучшей моделью признал случайный лес с количеством деревьев 91 и глубиной 7 по причине высокок показателя auc_roc и почти одинакового показателя f1."
   ]
  },
  {
   "cell_type": "code",
   "execution_count": 42,
   "id": "32063a36",
   "metadata": {},
   "outputs": [
    {
     "name": "stdout",
     "output_type": "stream",
     "text": [
      "Лучший_f1: 0.6312138728323698\n",
      "Лучший auc_roc: 0.8685415435018227\n"
     ]
    }
   ],
   "source": [
    "model = RandomForestClassifier(n_estimators=91, max_depth=7, random_state=12345)\n",
    "model.fit(features_train, target_train)\n",
    "pred = model.predict(features_test)\n",
    "probabilities_test = model.predict_proba(features_test)\n",
    "probabilities_one_test = probabilities_test[:, 1]\n",
    "print(f\"Лучший_f1: {f1_score(target_test, pred)}\")\n",
    "print(f\"Лучший auc_roc: {roc_auc_score(target_test, probabilities_one_test)}\")"
   ]
  },
  {
   "cell_type": "code",
   "execution_count": 43,
   "id": "c685444d",
   "metadata": {},
   "outputs": [
    {
     "data": {
      "image/png": "[encoded data removed]",
      "text/plain": [
       "<Figure size 432x288 with 1 Axes>"
      ]
     },
     "metadata": {
      "needs_background": "light"
     },
     "output_type": "display_data"
    }
   ],
   "source": [
    "fpr, tpr, thresholds = roc_curve(target_test, probabilities_one_test)\n",
    "\n",
    "\n",
    "plt.figure()\n",
    "plt.plot(fpr, tpr, color='g')\n",
    "plt.xlim([0.0, 1.0])\n",
    "plt.ylim([0.0, 1.0])\n",
    "plt.xlabel('False Positive Rate')\n",
    "plt.ylabel('True Positive Rate')\n",
    "plt.title('ROC-кривая')\n",
    "plt.show() "
   ]
  },
  {
   "cell_type": "markdown",
   "id": "a7054fd6",
   "metadata": {},
   "source": [
    "Лучшая модель показала f1-меру: 0.631 и auc_roc: 0.869, отличный результат. Хотя можно сказать, что модель слегка переобучилась, но только совсем чуть-чуть."
   ]
  },
  {
   "cell_type": "markdown",
   "id": "9fc8fe83",
   "metadata": {},
   "source": [
    "## Вывод "
   ]
  },
  {
   "cell_type": "markdown",
   "id": "5c5ca5d2",
   "metadata": {},
   "source": [
    "Построили модель случайного леса (количество деревьев 91 и глубина 7) предсказывающую факт ухода клиента из банка с показателем f1-меры: 0.631 и auc_roc: 0.869. Модель слегка переобучилась, однако ее показатели значительно лучше чем у моделей без масштабирования и увелечения выборки: модель случайного леса(лучшее кол-во деревьев: 11, лучшая глубина: 16) показала f1-меру: 0.57 (меньше лучшей на 0.06) и auc_roc: 0.83(меньше лучшей на 0.04). Также выявили, что модель обученная на логистической регрессии (10 иттераций и алгоритм sag) при масштабировании и upsampling показала f1: 0.624 и auc_roc: 0.75, что значительно лучше модели логистической регрессии без масштабирования и upsampling (итераций 29 и алгоритм liblinear) f1:0.29 (меньше более чем в два раза) и auc_roc: 0.75. \n",
    "Это доказвыает эффективность применения увелечения выборки и масштабирования признаков."
   ]
  }
 ],
 "metadata": {
  "kernelspec": {
   "display_name": "Python 3",
   "language": "python",
   "name": "python3"
  },
  "language_info": {
   "codemirror_mode": {
    "name": "ipython",
    "version": 3
   },
   "file_extension": ".py",
   "mimetype": "text/x-python",
   "name": "python",
   "nbconvert_exporter": "python",
   "pygments_lexer": "ipython3",
   "version": "3.8.8"
  }
 },
 "nbformat": 4,
 "nbformat_minor": 5
}
